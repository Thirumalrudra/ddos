{
 "cells": [
  {
   "cell_type": "markdown",
   "metadata": {},
   "source": [
    "## Introduction\n",
    "This is the data taken from the application layer of the system. Through the network analysis the lables are assigned having three classes. 1) Benign: Legit ,2) DoS slowloris:DoS attack and 3). DoS Hulk: DDoS attack. "
   ]
  },
  {
   "cell_type": "markdown",
   "metadata": {},
   "source": [
    "## Exploratory Analysis : Data Visualization"
   ]
  },
  {
   "cell_type": "code",
   "execution_count": 1,
   "metadata": {
    "_kg_hide-input": false,
    "execution": {
     "iopub.execute_input": "2023-01-31T15:26:08.66494Z",
     "iopub.status.busy": "2023-01-31T15:26:08.664494Z",
     "iopub.status.idle": "2023-01-31T15:26:08.671678Z",
     "shell.execute_reply": "2023-01-31T15:26:08.670448Z",
     "shell.execute_reply.started": "2023-01-31T15:26:08.664859Z"
    }
   },
   "outputs": [],
   "source": [
    "from mpl_toolkits.mplot3d import Axes3D #For Basic ploting\n",
    "from sklearn.preprocessing import StandardScaler #Preprocessing\n",
    "from sklearn import preprocessing    # Preprocessing\n",
    "from sklearn.naive_bayes import GaussianNB #import gaussian naive bayes model\n",
    "from sklearn.tree import DecisionTreeClassifier #import Decision tree classifier\n",
    "from sklearn import metrics  #Import scikit-learn metrics module for accuracy calculation\n",
    "import matplotlib.pyplot as plt # plotting\n",
    "import numpy as np # linear algebra\n",
    "import os # accessing directory structure\n",
    "import pandas as pd # data processing, CSV file I/O (e.g. pd.read_csv)\n",
    "import seaborn as sns\n"
   ]
  },
  {
   "cell_type": "markdown",
   "metadata": {},
   "source": [
    "There are 2 csv files in the current version of the dataset:\n"
   ]
  },
  {
   "cell_type": "code",
   "execution_count": null,
   "metadata": {
    "_kg_hide-input": false,
    "execution": {
     "iopub.execute_input": "2023-01-31T15:26:08.717766Z",
     "iopub.status.busy": "2023-01-31T15:26:08.71708Z",
     "iopub.status.idle": "2023-01-31T15:26:08.734288Z",
     "shell.execute_reply": "2023-01-31T15:26:08.732848Z",
     "shell.execute_reply.started": "2023-01-31T15:26:08.717688Z"
    }
   },
   "outputs": [],
   "source": [
    "for dirname, _, filenames in os.walk('/kaggle/input'):\n",
    "    for filename in filenames:\n",
    "        print(os.path.join(dirname, filename))\n"
   ]
  },
  {
   "cell_type": "markdown",
   "metadata": {},
   "source": [
    "The next hidden code cells define functions for plotting data."
   ]
  },
  {
   "cell_type": "code",
   "execution_count": 2,
   "metadata": {
    "_kg_hide-input": true,
    "execution": {
     "iopub.execute_input": "2023-01-31T15:26:08.769753Z",
     "iopub.status.busy": "2023-01-31T15:26:08.768791Z",
     "iopub.status.idle": "2023-01-31T15:26:08.782425Z",
     "shell.execute_reply": "2023-01-31T15:26:08.781132Z",
     "shell.execute_reply.started": "2023-01-31T15:26:08.769667Z"
    }
   },
   "outputs": [],
   "source": [
    "# Distribution graphs (histogram/bar graph) of column data\n",
    "def plotPerColumnDistribution(df, nGraphShown, nGraphPerRow):\n",
    "    nunique = df.nunique()\n",
    "    df = df[[col for col in df if nunique[col] > 1 and nunique[col] < 50]] # For displaying purposes, pick columns that have between 1 and 50 unique values\n",
    "    nRow, nCol = df.shape\n",
    "    columnNames = list(df)\n",
    "    nGraphRow = (nCol + nGraphPerRow - 1) / nGraphPerRow\n",
    "    plt.figure(num = None, figsize = (6 * nGraphPerRow, 8 * nGraphRow), dpi = 80, facecolor = 'w', edgecolor = 'k')\n",
    "    for i in range(min(nCol, nGraphShown)):\n",
    "        plt.subplot(nGraphRow, nGraphPerRow, i + 1)\n",
    "        columnDf = df.iloc[:, i]\n",
    "        if (not np.issubdtype(type(columnDf.iloc[0]), np.number)):\n",
    "            valueCounts = columnDf.value_counts()\n",
    "            valueCounts.plot.bar()\n",
    "        else:\n",
    "            columnDf.hist()\n",
    "        plt.ylabel('counts')\n",
    "        plt.xticks(rotation = 90)\n",
    "        plt.title(f'{columnNames[i]} (column {i})')\n",
    "    plt.tight_layout(pad = 1.0, w_pad = 1.0, h_pad = 1.0)\n",
    "    plt.show()\n"
   ]
  },
  {
   "cell_type": "code",
   "execution_count": 3,
   "metadata": {
    "_kg_hide-input": true,
    "execution": {
     "iopub.execute_input": "2023-01-31T15:26:08.786073Z",
     "iopub.status.busy": "2023-01-31T15:26:08.785354Z",
     "iopub.status.idle": "2023-01-31T15:26:08.798966Z",
     "shell.execute_reply": "2023-01-31T15:26:08.798044Z",
     "shell.execute_reply.started": "2023-01-31T15:26:08.785885Z"
    }
   },
   "outputs": [],
   "source": [
    "# Correlation matrix\n",
    "def plotCorrelationMatrix(df, graphWidth):\n",
    "    filename = df.dataframeName\n",
    "    df = df.dropna('columns') # drop columns with NaN\n",
    "    df = df[[col for col in df if df[col].nunique() > 1]] # keep columns where there are more than 1 unique values\n",
    "    if df.shape[1] < 2:\n",
    "        print(f'No correlation plots shown: The number of non-NaN or constant columns ({df.shape[1]}) is less than 2')\n",
    "        return\n",
    "    corr = df.corr()\n",
    "    plt.figure(num=None, figsize=(graphWidth, graphWidth), dpi=80, facecolor='w', edgecolor='k')\n",
    "    corrMat = plt.matshow(corr, fignum = 1)\n",
    "    plt.xticks(range(len(corr.columns)), corr.columns, rotation=90)\n",
    "    plt.yticks(range(len(corr.columns)), corr.columns)\n",
    "    plt.gca().xaxis.tick_bottom()\n",
    "    plt.colorbar(corrMat)\n",
    "    plt.title(f'Correlation Matrix for {filename}', fontsize=15)\n",
    "    plt.show()\n"
   ]
  },
  {
   "cell_type": "code",
   "execution_count": 4,
   "metadata": {
    "execution": {
     "iopub.execute_input": "2023-01-31T15:26:08.8008Z",
     "iopub.status.busy": "2023-01-31T15:26:08.800293Z",
     "iopub.status.idle": "2023-01-31T15:26:08.81956Z",
     "shell.execute_reply": "2023-01-31T15:26:08.817894Z",
     "shell.execute_reply.started": "2023-01-31T15:26:08.800739Z"
    }
   },
   "outputs": [],
   "source": [
    "# Scatter and density plots\n",
    "def plotScatterMatrix(df, plotSize, textSize):\n",
    "    df = df.select_dtypes(include =[np.number]) # keep only numerical columns\n",
    "    # Remove rows and columns that would lead to df being singular\n",
    "    df = df.dropna('columns')\n",
    "    df = df[[col for col in df if df[col].nunique() > 1]] # keep columns where there are more than 1 unique values\n",
    "    columnNames = list(df)\n",
    "    if len(columnNames) > 10: # reduce the number of columns for matrix inversion of kernel density plots\n",
    "        columnNames = columnNames[:10]\n",
    "    df = df[columnNames]\n",
    "    ax = pd.plotting.scatter_matrix(df, alpha=0.75, figsize=[plotSize, plotSize], diagonal='kde')\n",
    "    corrs = df.corr().values\n",
    "    for i, j in zip(*plt.np.triu_indices_from(ax, k = 1)):\n",
    "        ax[i, j].annotate('Corr. coef = %.3f' % corrs[i, j], (0.8, 0.2), xycoords='axes fraction', ha='center', va='center', size=textSize)\n",
    "    plt.suptitle('Scatter and Density Plot')\n",
    "    plt.show()"
   ]
  },
  {
   "cell_type": "markdown",
   "metadata": {},
   "source": [
    "# Load Data"
   ]
  },
  {
   "cell_type": "code",
   "execution_count": 5,
   "metadata": {
    "_kg_hide-input": false,
    "execution": {
     "iopub.execute_input": "2023-01-31T15:26:08.82186Z",
     "iopub.status.busy": "2023-01-31T15:26:08.821458Z",
     "iopub.status.idle": "2023-01-31T15:26:08.858737Z",
     "shell.execute_reply": "2023-01-31T15:26:08.857495Z",
     "shell.execute_reply.started": "2023-01-31T15:26:08.821793Z"
    }
   },
   "outputs": [
    {
     "name": "stdout",
     "output_type": "stream",
     "text": [
      "There are 1000 rows and 43 columns\n"
     ]
    }
   ],
   "source": [
    "nRowsRead = 1000 # specify No. of row. 'None' for whole data\n",
    "# test_mosaic.csv may have more rows in reality, but we are only loading/previewing the first 1000 rows\n",
    "df1 = pd.read_csv('Train.csv', delimiter=',', nrows = nRowsRead)\n",
    "df1.dataframeName = 'Test.csv'\n",
    "nRow, nCol = df1.shape\n",
    "print(f'There are {nRow} rows and {nCol} columns')"
   ]
  },
  {
   "cell_type": "markdown",
   "metadata": {},
   "source": [
    "Let's take a quick look at what the data looks like:"
   ]
  },
  {
   "cell_type": "code",
   "execution_count": 6,
   "metadata": {
    "_kg_hide-input": false,
    "execution": {
     "iopub.execute_input": "2023-01-31T15:26:08.863033Z",
     "iopub.status.busy": "2023-01-31T15:26:08.862239Z",
     "iopub.status.idle": "2023-01-31T15:26:08.898264Z",
     "shell.execute_reply": "2023-01-31T15:26:08.897269Z",
     "shell.execute_reply.started": "2023-01-31T15:26:08.862954Z"
    }
   },
   "outputs": [
    {
     "data": {
      "text/html": [
       "<div>\n",
       "<style scoped>\n",
       "    .dataframe tbody tr th:only-of-type {\n",
       "        vertical-align: middle;\n",
       "    }\n",
       "\n",
       "    .dataframe tbody tr th {\n",
       "        vertical-align: top;\n",
       "    }\n",
       "\n",
       "    .dataframe thead th {\n",
       "        text-align: right;\n",
       "    }\n",
       "</style>\n",
       "<table border=\"1\" class=\"dataframe\">\n",
       "  <thead>\n",
       "    <tr style=\"text-align: right;\">\n",
       "      <th></th>\n",
       "      <th>id</th>\n",
       "      <th>duration</th>\n",
       "      <th>protocol_type</th>\n",
       "      <th>service</th>\n",
       "      <th>flag</th>\n",
       "      <th>src_bytes</th>\n",
       "      <th>dst_bytes</th>\n",
       "      <th>land</th>\n",
       "      <th>wrong_fragment</th>\n",
       "      <th>urgent</th>\n",
       "      <th>...</th>\n",
       "      <th>dst_host_srv_count</th>\n",
       "      <th>dst_host_same_srv_rate</th>\n",
       "      <th>dst_host_diff_srv_rate</th>\n",
       "      <th>dst_host_same_src_port_rate</th>\n",
       "      <th>dst_host_srv_diff_host_rate</th>\n",
       "      <th>dst_host_serror_rate</th>\n",
       "      <th>dst_host_srv_serror_rate</th>\n",
       "      <th>dst_host_rerror_rate</th>\n",
       "      <th>dst_host_srv_rerror_rate</th>\n",
       "      <th>class</th>\n",
       "    </tr>\n",
       "  </thead>\n",
       "  <tbody>\n",
       "    <tr>\n",
       "      <th>0</th>\n",
       "      <td>1</td>\n",
       "      <td>0</td>\n",
       "      <td>tcp</td>\n",
       "      <td>ftp_data</td>\n",
       "      <td>SF</td>\n",
       "      <td>491</td>\n",
       "      <td>0</td>\n",
       "      <td>0</td>\n",
       "      <td>0</td>\n",
       "      <td>0</td>\n",
       "      <td>...</td>\n",
       "      <td>25</td>\n",
       "      <td>0.17</td>\n",
       "      <td>0.03</td>\n",
       "      <td>0.17</td>\n",
       "      <td>0.00</td>\n",
       "      <td>0.00</td>\n",
       "      <td>0.00</td>\n",
       "      <td>0.05</td>\n",
       "      <td>0.00</td>\n",
       "      <td>0</td>\n",
       "    </tr>\n",
       "    <tr>\n",
       "      <th>1</th>\n",
       "      <td>2</td>\n",
       "      <td>0</td>\n",
       "      <td>udp</td>\n",
       "      <td>other</td>\n",
       "      <td>SF</td>\n",
       "      <td>146</td>\n",
       "      <td>0</td>\n",
       "      <td>0</td>\n",
       "      <td>0</td>\n",
       "      <td>0</td>\n",
       "      <td>...</td>\n",
       "      <td>1</td>\n",
       "      <td>0.00</td>\n",
       "      <td>0.60</td>\n",
       "      <td>0.88</td>\n",
       "      <td>0.00</td>\n",
       "      <td>0.00</td>\n",
       "      <td>0.00</td>\n",
       "      <td>0.00</td>\n",
       "      <td>0.00</td>\n",
       "      <td>0</td>\n",
       "    </tr>\n",
       "    <tr>\n",
       "      <th>2</th>\n",
       "      <td>3</td>\n",
       "      <td>0</td>\n",
       "      <td>tcp</td>\n",
       "      <td>private</td>\n",
       "      <td>S0</td>\n",
       "      <td>0</td>\n",
       "      <td>0</td>\n",
       "      <td>0</td>\n",
       "      <td>0</td>\n",
       "      <td>0</td>\n",
       "      <td>...</td>\n",
       "      <td>26</td>\n",
       "      <td>0.10</td>\n",
       "      <td>0.05</td>\n",
       "      <td>0.00</td>\n",
       "      <td>0.00</td>\n",
       "      <td>1.00</td>\n",
       "      <td>1.00</td>\n",
       "      <td>0.00</td>\n",
       "      <td>0.00</td>\n",
       "      <td>1</td>\n",
       "    </tr>\n",
       "    <tr>\n",
       "      <th>3</th>\n",
       "      <td>4</td>\n",
       "      <td>0</td>\n",
       "      <td>tcp</td>\n",
       "      <td>http</td>\n",
       "      <td>SF</td>\n",
       "      <td>232</td>\n",
       "      <td>8153</td>\n",
       "      <td>0</td>\n",
       "      <td>0</td>\n",
       "      <td>0</td>\n",
       "      <td>...</td>\n",
       "      <td>255</td>\n",
       "      <td>1.00</td>\n",
       "      <td>0.00</td>\n",
       "      <td>0.03</td>\n",
       "      <td>0.04</td>\n",
       "      <td>0.03</td>\n",
       "      <td>0.01</td>\n",
       "      <td>0.00</td>\n",
       "      <td>0.01</td>\n",
       "      <td>0</td>\n",
       "    </tr>\n",
       "    <tr>\n",
       "      <th>4</th>\n",
       "      <td>5</td>\n",
       "      <td>0</td>\n",
       "      <td>tcp</td>\n",
       "      <td>http</td>\n",
       "      <td>SF</td>\n",
       "      <td>199</td>\n",
       "      <td>420</td>\n",
       "      <td>0</td>\n",
       "      <td>0</td>\n",
       "      <td>0</td>\n",
       "      <td>...</td>\n",
       "      <td>255</td>\n",
       "      <td>1.00</td>\n",
       "      <td>0.00</td>\n",
       "      <td>0.00</td>\n",
       "      <td>0.00</td>\n",
       "      <td>0.00</td>\n",
       "      <td>0.00</td>\n",
       "      <td>0.00</td>\n",
       "      <td>0.00</td>\n",
       "      <td>0</td>\n",
       "    </tr>\n",
       "  </tbody>\n",
       "</table>\n",
       "<p>5 rows × 43 columns</p>\n",
       "</div>"
      ],
      "text/plain": [
       "   id  duration protocol_type   service flag  src_bytes  dst_bytes  land  \\\n",
       "0   1         0           tcp  ftp_data   SF        491          0     0   \n",
       "1   2         0           udp     other   SF        146          0     0   \n",
       "2   3         0           tcp   private   S0          0          0     0   \n",
       "3   4         0           tcp      http   SF        232       8153     0   \n",
       "4   5         0           tcp      http   SF        199        420     0   \n",
       "\n",
       "   wrong_fragment  urgent  ...  dst_host_srv_count  dst_host_same_srv_rate  \\\n",
       "0               0       0  ...                  25                    0.17   \n",
       "1               0       0  ...                   1                    0.00   \n",
       "2               0       0  ...                  26                    0.10   \n",
       "3               0       0  ...                 255                    1.00   \n",
       "4               0       0  ...                 255                    1.00   \n",
       "\n",
       "   dst_host_diff_srv_rate  dst_host_same_src_port_rate  \\\n",
       "0                    0.03                         0.17   \n",
       "1                    0.60                         0.88   \n",
       "2                    0.05                         0.00   \n",
       "3                    0.00                         0.03   \n",
       "4                    0.00                         0.00   \n",
       "\n",
       "   dst_host_srv_diff_host_rate  dst_host_serror_rate  \\\n",
       "0                         0.00                  0.00   \n",
       "1                         0.00                  0.00   \n",
       "2                         0.00                  1.00   \n",
       "3                         0.04                  0.03   \n",
       "4                         0.00                  0.00   \n",
       "\n",
       "   dst_host_srv_serror_rate  dst_host_rerror_rate  dst_host_srv_rerror_rate  \\\n",
       "0                      0.00                  0.05                      0.00   \n",
       "1                      0.00                  0.00                      0.00   \n",
       "2                      1.00                  0.00                      0.00   \n",
       "3                      0.01                  0.00                      0.01   \n",
       "4                      0.00                  0.00                      0.00   \n",
       "\n",
       "   class  \n",
       "0      0  \n",
       "1      0  \n",
       "2      1  \n",
       "3      0  \n",
       "4      0  \n",
       "\n",
       "[5 rows x 43 columns]"
      ]
     },
     "execution_count": 6,
     "metadata": {},
     "output_type": "execute_result"
    }
   ],
   "source": [
    "df1.head(5)"
   ]
  },
  {
   "cell_type": "markdown",
   "metadata": {},
   "source": [
    "Distribution graphs (histogram/bar graph) of sampled columns:"
   ]
  },
  {
   "cell_type": "code",
   "execution_count": 8,
   "metadata": {
    "_kg_hide-input": false,
    "execution": {
     "iopub.execute_input": "2023-01-31T15:34:54.457093Z",
     "iopub.status.busy": "2023-01-31T15:34:54.456524Z",
     "iopub.status.idle": "2023-01-31T15:34:56.201007Z",
     "shell.execute_reply": "2023-01-31T15:34:56.199615Z",
     "shell.execute_reply.started": "2023-01-31T15:34:54.457015Z"
    }
   },
   "outputs": [],
   "source": [
    "#plotPerColumnDistribution(df1, 5, 5)"
   ]
  },
  {
   "cell_type": "markdown",
   "metadata": {},
   "source": [
    "\n",
    "\n",
    "Scatter and density plots:\n"
   ]
  },
  {
   "cell_type": "code",
   "execution_count": null,
   "metadata": {
    "execution": {
     "iopub.execute_input": "2023-01-31T15:39:04.001484Z",
     "iopub.status.busy": "2023-01-31T15:39:04.00111Z",
     "iopub.status.idle": "2023-01-31T15:39:12.392249Z",
     "shell.execute_reply": "2023-01-31T15:39:12.390964Z",
     "shell.execute_reply.started": "2023-01-31T15:39:04.00143Z"
    }
   },
   "outputs": [],
   "source": [
    "\n",
    "\n",
    "plotScatterMatrix(df1, 8, 10)\n",
    "\n"
   ]
  },
  {
   "cell_type": "code",
   "execution_count": 9,
   "metadata": {
    "execution": {
     "iopub.execute_input": "2023-01-31T15:26:19.961431Z",
     "iopub.status.busy": "2023-01-31T15:26:19.961039Z",
     "iopub.status.idle": "2023-01-31T15:26:19.968999Z",
     "shell.execute_reply": "2023-01-31T15:26:19.967838Z",
     "shell.execute_reply.started": "2023-01-31T15:26:19.961367Z"
    }
   },
   "outputs": [
    {
     "data": {
      "text/plain": [
       "(1000, 43)"
      ]
     },
     "execution_count": 9,
     "metadata": {},
     "output_type": "execute_result"
    }
   ],
   "source": [
    "df1.shape"
   ]
  },
  {
   "cell_type": "code",
   "execution_count": 10,
   "metadata": {
    "execution": {
     "iopub.execute_input": "2023-01-31T15:26:19.971453Z",
     "iopub.status.busy": "2023-01-31T15:26:19.97104Z",
     "iopub.status.idle": "2023-01-31T15:26:20.221691Z",
     "shell.execute_reply": "2023-01-31T15:26:20.220645Z",
     "shell.execute_reply.started": "2023-01-31T15:26:19.971372Z"
    }
   },
   "outputs": [
    {
     "data": {
      "text/html": [
       "<div>\n",
       "<style scoped>\n",
       "    .dataframe tbody tr th:only-of-type {\n",
       "        vertical-align: middle;\n",
       "    }\n",
       "\n",
       "    .dataframe tbody tr th {\n",
       "        vertical-align: top;\n",
       "    }\n",
       "\n",
       "    .dataframe thead th {\n",
       "        text-align: right;\n",
       "    }\n",
       "</style>\n",
       "<table border=\"1\" class=\"dataframe\">\n",
       "  <thead>\n",
       "    <tr style=\"text-align: right;\">\n",
       "      <th></th>\n",
       "      <th>id</th>\n",
       "      <th>duration</th>\n",
       "      <th>src_bytes</th>\n",
       "      <th>dst_bytes</th>\n",
       "      <th>land</th>\n",
       "      <th>wrong_fragment</th>\n",
       "      <th>urgent</th>\n",
       "      <th>hot</th>\n",
       "      <th>num_failed_logins</th>\n",
       "      <th>logged_in</th>\n",
       "      <th>...</th>\n",
       "      <th>dst_host_srv_count</th>\n",
       "      <th>dst_host_same_srv_rate</th>\n",
       "      <th>dst_host_diff_srv_rate</th>\n",
       "      <th>dst_host_same_src_port_rate</th>\n",
       "      <th>dst_host_srv_diff_host_rate</th>\n",
       "      <th>dst_host_serror_rate</th>\n",
       "      <th>dst_host_srv_serror_rate</th>\n",
       "      <th>dst_host_rerror_rate</th>\n",
       "      <th>dst_host_srv_rerror_rate</th>\n",
       "      <th>class</th>\n",
       "    </tr>\n",
       "  </thead>\n",
       "  <tbody>\n",
       "    <tr>\n",
       "      <th>count</th>\n",
       "      <td>1000.000000</td>\n",
       "      <td>1000.000000</td>\n",
       "      <td>1.000000e+03</td>\n",
       "      <td>1000.00000</td>\n",
       "      <td>1000.0</td>\n",
       "      <td>1000.000000</td>\n",
       "      <td>1000.0</td>\n",
       "      <td>1000.000000</td>\n",
       "      <td>1000.000000</td>\n",
       "      <td>1000.000000</td>\n",
       "      <td>...</td>\n",
       "      <td>1000.000000</td>\n",
       "      <td>1000.000000</td>\n",
       "      <td>1000.000000</td>\n",
       "      <td>1000.000000</td>\n",
       "      <td>1000.000000</td>\n",
       "      <td>1000.000000</td>\n",
       "      <td>1000.000000</td>\n",
       "      <td>1000.000000</td>\n",
       "      <td>1000.000000</td>\n",
       "      <td>1000.000000</td>\n",
       "    </tr>\n",
       "    <tr>\n",
       "      <th>mean</th>\n",
       "      <td>500.500000</td>\n",
       "      <td>314.051000</td>\n",
       "      <td>7.946789e+03</td>\n",
       "      <td>1392.31000</td>\n",
       "      <td>0.0</td>\n",
       "      <td>0.034000</td>\n",
       "      <td>0.0</td>\n",
       "      <td>0.164000</td>\n",
       "      <td>0.003000</td>\n",
       "      <td>0.387000</td>\n",
       "      <td>...</td>\n",
       "      <td>109.183000</td>\n",
       "      <td>0.497700</td>\n",
       "      <td>0.080330</td>\n",
       "      <td>0.154560</td>\n",
       "      <td>0.034220</td>\n",
       "      <td>0.296210</td>\n",
       "      <td>0.291790</td>\n",
       "      <td>0.120940</td>\n",
       "      <td>0.130590</td>\n",
       "      <td>0.484000</td>\n",
       "    </tr>\n",
       "    <tr>\n",
       "      <th>std</th>\n",
       "      <td>288.819436</td>\n",
       "      <td>2568.216529</td>\n",
       "      <td>1.764509e+05</td>\n",
       "      <td>5813.85664</td>\n",
       "      <td>0.0</td>\n",
       "      <td>0.314552</td>\n",
       "      <td>0.0</td>\n",
       "      <td>1.900715</td>\n",
       "      <td>0.070682</td>\n",
       "      <td>0.487307</td>\n",
       "      <td>...</td>\n",
       "      <td>110.619782</td>\n",
       "      <td>0.451054</td>\n",
       "      <td>0.177981</td>\n",
       "      <td>0.315429</td>\n",
       "      <td>0.115508</td>\n",
       "      <td>0.452215</td>\n",
       "      <td>0.452299</td>\n",
       "      <td>0.306996</td>\n",
       "      <td>0.331479</td>\n",
       "      <td>0.499994</td>\n",
       "    </tr>\n",
       "    <tr>\n",
       "      <th>min</th>\n",
       "      <td>1.000000</td>\n",
       "      <td>0.000000</td>\n",
       "      <td>0.000000e+00</td>\n",
       "      <td>0.00000</td>\n",
       "      <td>0.0</td>\n",
       "      <td>0.000000</td>\n",
       "      <td>0.0</td>\n",
       "      <td>0.000000</td>\n",
       "      <td>0.000000</td>\n",
       "      <td>0.000000</td>\n",
       "      <td>...</td>\n",
       "      <td>1.000000</td>\n",
       "      <td>0.000000</td>\n",
       "      <td>0.000000</td>\n",
       "      <td>0.000000</td>\n",
       "      <td>0.000000</td>\n",
       "      <td>0.000000</td>\n",
       "      <td>0.000000</td>\n",
       "      <td>0.000000</td>\n",
       "      <td>0.000000</td>\n",
       "      <td>0.000000</td>\n",
       "    </tr>\n",
       "    <tr>\n",
       "      <th>25%</th>\n",
       "      <td>250.750000</td>\n",
       "      <td>0.000000</td>\n",
       "      <td>0.000000e+00</td>\n",
       "      <td>0.00000</td>\n",
       "      <td>0.0</td>\n",
       "      <td>0.000000</td>\n",
       "      <td>0.0</td>\n",
       "      <td>0.000000</td>\n",
       "      <td>0.000000</td>\n",
       "      <td>0.000000</td>\n",
       "      <td>...</td>\n",
       "      <td>9.000000</td>\n",
       "      <td>0.040000</td>\n",
       "      <td>0.000000</td>\n",
       "      <td>0.000000</td>\n",
       "      <td>0.000000</td>\n",
       "      <td>0.000000</td>\n",
       "      <td>0.000000</td>\n",
       "      <td>0.000000</td>\n",
       "      <td>0.000000</td>\n",
       "      <td>0.000000</td>\n",
       "    </tr>\n",
       "    <tr>\n",
       "      <th>50%</th>\n",
       "      <td>500.500000</td>\n",
       "      <td>0.000000</td>\n",
       "      <td>3.600000e+01</td>\n",
       "      <td>0.00000</td>\n",
       "      <td>0.0</td>\n",
       "      <td>0.000000</td>\n",
       "      <td>0.0</td>\n",
       "      <td>0.000000</td>\n",
       "      <td>0.000000</td>\n",
       "      <td>0.000000</td>\n",
       "      <td>...</td>\n",
       "      <td>46.500000</td>\n",
       "      <td>0.355000</td>\n",
       "      <td>0.025000</td>\n",
       "      <td>0.010000</td>\n",
       "      <td>0.000000</td>\n",
       "      <td>0.000000</td>\n",
       "      <td>0.000000</td>\n",
       "      <td>0.000000</td>\n",
       "      <td>0.000000</td>\n",
       "      <td>0.000000</td>\n",
       "    </tr>\n",
       "    <tr>\n",
       "      <th>75%</th>\n",
       "      <td>750.250000</td>\n",
       "      <td>0.000000</td>\n",
       "      <td>2.612500e+02</td>\n",
       "      <td>493.25000</td>\n",
       "      <td>0.0</td>\n",
       "      <td>0.000000</td>\n",
       "      <td>0.0</td>\n",
       "      <td>0.000000</td>\n",
       "      <td>0.000000</td>\n",
       "      <td>1.000000</td>\n",
       "      <td>...</td>\n",
       "      <td>255.000000</td>\n",
       "      <td>1.000000</td>\n",
       "      <td>0.070000</td>\n",
       "      <td>0.080000</td>\n",
       "      <td>0.020000</td>\n",
       "      <td>1.000000</td>\n",
       "      <td>1.000000</td>\n",
       "      <td>0.000000</td>\n",
       "      <td>0.000000</td>\n",
       "      <td>1.000000</td>\n",
       "    </tr>\n",
       "    <tr>\n",
       "      <th>max</th>\n",
       "      <td>1000.000000</td>\n",
       "      <td>41285.000000</td>\n",
       "      <td>5.131424e+06</td>\n",
       "      <td>148722.00000</td>\n",
       "      <td>0.0</td>\n",
       "      <td>3.000000</td>\n",
       "      <td>0.0</td>\n",
       "      <td>30.000000</td>\n",
       "      <td>2.000000</td>\n",
       "      <td>1.000000</td>\n",
       "      <td>...</td>\n",
       "      <td>255.000000</td>\n",
       "      <td>1.000000</td>\n",
       "      <td>1.000000</td>\n",
       "      <td>1.000000</td>\n",
       "      <td>1.000000</td>\n",
       "      <td>1.000000</td>\n",
       "      <td>1.000000</td>\n",
       "      <td>1.000000</td>\n",
       "      <td>1.000000</td>\n",
       "      <td>1.000000</td>\n",
       "    </tr>\n",
       "  </tbody>\n",
       "</table>\n",
       "<p>8 rows × 40 columns</p>\n",
       "</div>"
      ],
      "text/plain": [
       "                id      duration     src_bytes     dst_bytes    land  \\\n",
       "count  1000.000000   1000.000000  1.000000e+03    1000.00000  1000.0   \n",
       "mean    500.500000    314.051000  7.946789e+03    1392.31000     0.0   \n",
       "std     288.819436   2568.216529  1.764509e+05    5813.85664     0.0   \n",
       "min       1.000000      0.000000  0.000000e+00       0.00000     0.0   \n",
       "25%     250.750000      0.000000  0.000000e+00       0.00000     0.0   \n",
       "50%     500.500000      0.000000  3.600000e+01       0.00000     0.0   \n",
       "75%     750.250000      0.000000  2.612500e+02     493.25000     0.0   \n",
       "max    1000.000000  41285.000000  5.131424e+06  148722.00000     0.0   \n",
       "\n",
       "       wrong_fragment  urgent          hot  num_failed_logins    logged_in  \\\n",
       "count     1000.000000  1000.0  1000.000000        1000.000000  1000.000000   \n",
       "mean         0.034000     0.0     0.164000           0.003000     0.387000   \n",
       "std          0.314552     0.0     1.900715           0.070682     0.487307   \n",
       "min          0.000000     0.0     0.000000           0.000000     0.000000   \n",
       "25%          0.000000     0.0     0.000000           0.000000     0.000000   \n",
       "50%          0.000000     0.0     0.000000           0.000000     0.000000   \n",
       "75%          0.000000     0.0     0.000000           0.000000     1.000000   \n",
       "max          3.000000     0.0    30.000000           2.000000     1.000000   \n",
       "\n",
       "       ...  dst_host_srv_count  dst_host_same_srv_rate  \\\n",
       "count  ...         1000.000000             1000.000000   \n",
       "mean   ...          109.183000                0.497700   \n",
       "std    ...          110.619782                0.451054   \n",
       "min    ...            1.000000                0.000000   \n",
       "25%    ...            9.000000                0.040000   \n",
       "50%    ...           46.500000                0.355000   \n",
       "75%    ...          255.000000                1.000000   \n",
       "max    ...          255.000000                1.000000   \n",
       "\n",
       "       dst_host_diff_srv_rate  dst_host_same_src_port_rate  \\\n",
       "count             1000.000000                  1000.000000   \n",
       "mean                 0.080330                     0.154560   \n",
       "std                  0.177981                     0.315429   \n",
       "min                  0.000000                     0.000000   \n",
       "25%                  0.000000                     0.000000   \n",
       "50%                  0.025000                     0.010000   \n",
       "75%                  0.070000                     0.080000   \n",
       "max                  1.000000                     1.000000   \n",
       "\n",
       "       dst_host_srv_diff_host_rate  dst_host_serror_rate  \\\n",
       "count                  1000.000000           1000.000000   \n",
       "mean                      0.034220              0.296210   \n",
       "std                       0.115508              0.452215   \n",
       "min                       0.000000              0.000000   \n",
       "25%                       0.000000              0.000000   \n",
       "50%                       0.000000              0.000000   \n",
       "75%                       0.020000              1.000000   \n",
       "max                       1.000000              1.000000   \n",
       "\n",
       "       dst_host_srv_serror_rate  dst_host_rerror_rate  \\\n",
       "count               1000.000000           1000.000000   \n",
       "mean                   0.291790              0.120940   \n",
       "std                    0.452299              0.306996   \n",
       "min                    0.000000              0.000000   \n",
       "25%                    0.000000              0.000000   \n",
       "50%                    0.000000              0.000000   \n",
       "75%                    1.000000              0.000000   \n",
       "max                    1.000000              1.000000   \n",
       "\n",
       "       dst_host_srv_rerror_rate        class  \n",
       "count               1000.000000  1000.000000  \n",
       "mean                   0.130590     0.484000  \n",
       "std                    0.331479     0.499994  \n",
       "min                    0.000000     0.000000  \n",
       "25%                    0.000000     0.000000  \n",
       "50%                    0.000000     0.000000  \n",
       "75%                    0.000000     1.000000  \n",
       "max                    1.000000     1.000000  \n",
       "\n",
       "[8 rows x 40 columns]"
      ]
     },
     "execution_count": 10,
     "metadata": {},
     "output_type": "execute_result"
    }
   ],
   "source": [
    "df1.describe()"
   ]
  },
  {
   "cell_type": "code",
   "execution_count": 11,
   "metadata": {
    "execution": {
     "iopub.execute_input": "2023-01-31T15:26:20.22375Z",
     "iopub.status.busy": "2023-01-31T15:26:20.223419Z",
     "iopub.status.idle": "2023-01-31T15:26:20.231795Z",
     "shell.execute_reply": "2023-01-31T15:26:20.230713Z",
     "shell.execute_reply.started": "2023-01-31T15:26:20.223699Z"
    }
   },
   "outputs": [
    {
     "data": {
      "text/plain": [
       "Index(['id', 'duration', 'protocol_type', 'service', 'flag', 'src_bytes',\n",
       "       'dst_bytes', 'land', 'wrong_fragment', 'urgent', 'hot',\n",
       "       'num_failed_logins', 'logged_in', 'num_compromised', 'root_shell',\n",
       "       'su_attempted', 'num_root', 'num_file_creations', 'num_shells',\n",
       "       'num_access_files', 'num_outbound_cmds', 'is_host_login',\n",
       "       'is_guest_login', 'count', 'srv_count', 'serror_rate',\n",
       "       'srv_serror_rate', 'rerror_rate', 'srv_rerror_rate', 'same_srv_rate',\n",
       "       'diff_srv_rate', 'srv_diff_host_rate', 'dst_host_count',\n",
       "       'dst_host_srv_count', 'dst_host_same_srv_rate',\n",
       "       'dst_host_diff_srv_rate', 'dst_host_same_src_port_rate',\n",
       "       'dst_host_srv_diff_host_rate', 'dst_host_serror_rate',\n",
       "       'dst_host_srv_serror_rate', 'dst_host_rerror_rate',\n",
       "       'dst_host_srv_rerror_rate', 'class'],\n",
       "      dtype='object')"
      ]
     },
     "execution_count": 11,
     "metadata": {},
     "output_type": "execute_result"
    }
   ],
   "source": [
    "df1.columns"
   ]
  },
  {
   "cell_type": "code",
   "execution_count": 12,
   "metadata": {
    "execution": {
     "iopub.execute_input": "2023-01-31T15:26:20.234161Z",
     "iopub.status.busy": "2023-01-31T15:26:20.233835Z",
     "iopub.status.idle": "2023-01-31T15:26:20.277087Z",
     "shell.execute_reply": "2023-01-31T15:26:20.27605Z",
     "shell.execute_reply.started": "2023-01-31T15:26:20.234109Z"
    }
   },
   "outputs": [
    {
     "data": {
      "text/html": [
       "<div>\n",
       "<style scoped>\n",
       "    .dataframe tbody tr th:only-of-type {\n",
       "        vertical-align: middle;\n",
       "    }\n",
       "\n",
       "    .dataframe tbody tr th {\n",
       "        vertical-align: top;\n",
       "    }\n",
       "\n",
       "    .dataframe thead th {\n",
       "        text-align: right;\n",
       "    }\n",
       "</style>\n",
       "<table border=\"1\" class=\"dataframe\">\n",
       "  <thead>\n",
       "    <tr style=\"text-align: right;\">\n",
       "      <th></th>\n",
       "      <th>id</th>\n",
       "      <th>duration</th>\n",
       "      <th>protocol_type</th>\n",
       "      <th>service</th>\n",
       "      <th>flag</th>\n",
       "      <th>src_bytes</th>\n",
       "      <th>dst_bytes</th>\n",
       "      <th>land</th>\n",
       "      <th>wrong_fragment</th>\n",
       "      <th>urgent</th>\n",
       "      <th>...</th>\n",
       "      <th>dst_host_srv_count</th>\n",
       "      <th>dst_host_same_srv_rate</th>\n",
       "      <th>dst_host_diff_srv_rate</th>\n",
       "      <th>dst_host_same_src_port_rate</th>\n",
       "      <th>dst_host_srv_diff_host_rate</th>\n",
       "      <th>dst_host_serror_rate</th>\n",
       "      <th>dst_host_srv_serror_rate</th>\n",
       "      <th>dst_host_rerror_rate</th>\n",
       "      <th>dst_host_srv_rerror_rate</th>\n",
       "      <th>class</th>\n",
       "    </tr>\n",
       "  </thead>\n",
       "  <tbody>\n",
       "    <tr>\n",
       "      <th>0</th>\n",
       "      <td>1</td>\n",
       "      <td>0</td>\n",
       "      <td>tcp</td>\n",
       "      <td>ftp_data</td>\n",
       "      <td>SF</td>\n",
       "      <td>491</td>\n",
       "      <td>0</td>\n",
       "      <td>0</td>\n",
       "      <td>0</td>\n",
       "      <td>0</td>\n",
       "      <td>...</td>\n",
       "      <td>25</td>\n",
       "      <td>0.17</td>\n",
       "      <td>0.03</td>\n",
       "      <td>0.17</td>\n",
       "      <td>0.00</td>\n",
       "      <td>0.00</td>\n",
       "      <td>0.00</td>\n",
       "      <td>0.05</td>\n",
       "      <td>0.00</td>\n",
       "      <td>0</td>\n",
       "    </tr>\n",
       "    <tr>\n",
       "      <th>1</th>\n",
       "      <td>2</td>\n",
       "      <td>0</td>\n",
       "      <td>udp</td>\n",
       "      <td>other</td>\n",
       "      <td>SF</td>\n",
       "      <td>146</td>\n",
       "      <td>0</td>\n",
       "      <td>0</td>\n",
       "      <td>0</td>\n",
       "      <td>0</td>\n",
       "      <td>...</td>\n",
       "      <td>1</td>\n",
       "      <td>0.00</td>\n",
       "      <td>0.60</td>\n",
       "      <td>0.88</td>\n",
       "      <td>0.00</td>\n",
       "      <td>0.00</td>\n",
       "      <td>0.00</td>\n",
       "      <td>0.00</td>\n",
       "      <td>0.00</td>\n",
       "      <td>0</td>\n",
       "    </tr>\n",
       "    <tr>\n",
       "      <th>2</th>\n",
       "      <td>3</td>\n",
       "      <td>0</td>\n",
       "      <td>tcp</td>\n",
       "      <td>private</td>\n",
       "      <td>S0</td>\n",
       "      <td>0</td>\n",
       "      <td>0</td>\n",
       "      <td>0</td>\n",
       "      <td>0</td>\n",
       "      <td>0</td>\n",
       "      <td>...</td>\n",
       "      <td>26</td>\n",
       "      <td>0.10</td>\n",
       "      <td>0.05</td>\n",
       "      <td>0.00</td>\n",
       "      <td>0.00</td>\n",
       "      <td>1.00</td>\n",
       "      <td>1.00</td>\n",
       "      <td>0.00</td>\n",
       "      <td>0.00</td>\n",
       "      <td>1</td>\n",
       "    </tr>\n",
       "    <tr>\n",
       "      <th>3</th>\n",
       "      <td>4</td>\n",
       "      <td>0</td>\n",
       "      <td>tcp</td>\n",
       "      <td>http</td>\n",
       "      <td>SF</td>\n",
       "      <td>232</td>\n",
       "      <td>8153</td>\n",
       "      <td>0</td>\n",
       "      <td>0</td>\n",
       "      <td>0</td>\n",
       "      <td>...</td>\n",
       "      <td>255</td>\n",
       "      <td>1.00</td>\n",
       "      <td>0.00</td>\n",
       "      <td>0.03</td>\n",
       "      <td>0.04</td>\n",
       "      <td>0.03</td>\n",
       "      <td>0.01</td>\n",
       "      <td>0.00</td>\n",
       "      <td>0.01</td>\n",
       "      <td>0</td>\n",
       "    </tr>\n",
       "    <tr>\n",
       "      <th>4</th>\n",
       "      <td>5</td>\n",
       "      <td>0</td>\n",
       "      <td>tcp</td>\n",
       "      <td>http</td>\n",
       "      <td>SF</td>\n",
       "      <td>199</td>\n",
       "      <td>420</td>\n",
       "      <td>0</td>\n",
       "      <td>0</td>\n",
       "      <td>0</td>\n",
       "      <td>...</td>\n",
       "      <td>255</td>\n",
       "      <td>1.00</td>\n",
       "      <td>0.00</td>\n",
       "      <td>0.00</td>\n",
       "      <td>0.00</td>\n",
       "      <td>0.00</td>\n",
       "      <td>0.00</td>\n",
       "      <td>0.00</td>\n",
       "      <td>0.00</td>\n",
       "      <td>0</td>\n",
       "    </tr>\n",
       "    <tr>\n",
       "      <th>...</th>\n",
       "      <td>...</td>\n",
       "      <td>...</td>\n",
       "      <td>...</td>\n",
       "      <td>...</td>\n",
       "      <td>...</td>\n",
       "      <td>...</td>\n",
       "      <td>...</td>\n",
       "      <td>...</td>\n",
       "      <td>...</td>\n",
       "      <td>...</td>\n",
       "      <td>...</td>\n",
       "      <td>...</td>\n",
       "      <td>...</td>\n",
       "      <td>...</td>\n",
       "      <td>...</td>\n",
       "      <td>...</td>\n",
       "      <td>...</td>\n",
       "      <td>...</td>\n",
       "      <td>...</td>\n",
       "      <td>...</td>\n",
       "      <td>...</td>\n",
       "    </tr>\n",
       "    <tr>\n",
       "      <th>995</th>\n",
       "      <td>996</td>\n",
       "      <td>799</td>\n",
       "      <td>tcp</td>\n",
       "      <td>telnet</td>\n",
       "      <td>RSTR</td>\n",
       "      <td>676</td>\n",
       "      <td>23920</td>\n",
       "      <td>0</td>\n",
       "      <td>0</td>\n",
       "      <td>0</td>\n",
       "      <td>...</td>\n",
       "      <td>16</td>\n",
       "      <td>0.06</td>\n",
       "      <td>0.06</td>\n",
       "      <td>0.01</td>\n",
       "      <td>0.00</td>\n",
       "      <td>0.67</td>\n",
       "      <td>0.06</td>\n",
       "      <td>0.01</td>\n",
       "      <td>0.12</td>\n",
       "      <td>0</td>\n",
       "    </tr>\n",
       "    <tr>\n",
       "      <th>996</th>\n",
       "      <td>997</td>\n",
       "      <td>0</td>\n",
       "      <td>tcp</td>\n",
       "      <td>http</td>\n",
       "      <td>SF</td>\n",
       "      <td>209</td>\n",
       "      <td>3556</td>\n",
       "      <td>0</td>\n",
       "      <td>0</td>\n",
       "      <td>0</td>\n",
       "      <td>...</td>\n",
       "      <td>255</td>\n",
       "      <td>1.00</td>\n",
       "      <td>0.00</td>\n",
       "      <td>0.04</td>\n",
       "      <td>0.04</td>\n",
       "      <td>0.00</td>\n",
       "      <td>0.00</td>\n",
       "      <td>0.00</td>\n",
       "      <td>0.00</td>\n",
       "      <td>0</td>\n",
       "    </tr>\n",
       "    <tr>\n",
       "      <th>997</th>\n",
       "      <td>998</td>\n",
       "      <td>0</td>\n",
       "      <td>tcp</td>\n",
       "      <td>private</td>\n",
       "      <td>S0</td>\n",
       "      <td>0</td>\n",
       "      <td>0</td>\n",
       "      <td>0</td>\n",
       "      <td>0</td>\n",
       "      <td>0</td>\n",
       "      <td>...</td>\n",
       "      <td>7</td>\n",
       "      <td>0.03</td>\n",
       "      <td>0.07</td>\n",
       "      <td>0.00</td>\n",
       "      <td>0.00</td>\n",
       "      <td>1.00</td>\n",
       "      <td>1.00</td>\n",
       "      <td>0.00</td>\n",
       "      <td>0.00</td>\n",
       "      <td>1</td>\n",
       "    </tr>\n",
       "    <tr>\n",
       "      <th>998</th>\n",
       "      <td>999</td>\n",
       "      <td>0</td>\n",
       "      <td>tcp</td>\n",
       "      <td>private</td>\n",
       "      <td>S0</td>\n",
       "      <td>0</td>\n",
       "      <td>0</td>\n",
       "      <td>0</td>\n",
       "      <td>0</td>\n",
       "      <td>0</td>\n",
       "      <td>...</td>\n",
       "      <td>5</td>\n",
       "      <td>0.02</td>\n",
       "      <td>0.07</td>\n",
       "      <td>0.00</td>\n",
       "      <td>0.00</td>\n",
       "      <td>1.00</td>\n",
       "      <td>1.00</td>\n",
       "      <td>0.00</td>\n",
       "      <td>0.00</td>\n",
       "      <td>1</td>\n",
       "    </tr>\n",
       "    <tr>\n",
       "      <th>999</th>\n",
       "      <td>1000</td>\n",
       "      <td>0</td>\n",
       "      <td>tcp</td>\n",
       "      <td>http</td>\n",
       "      <td>SF</td>\n",
       "      <td>229</td>\n",
       "      <td>934</td>\n",
       "      <td>0</td>\n",
       "      <td>0</td>\n",
       "      <td>0</td>\n",
       "      <td>...</td>\n",
       "      <td>255</td>\n",
       "      <td>1.00</td>\n",
       "      <td>0.00</td>\n",
       "      <td>0.20</td>\n",
       "      <td>0.05</td>\n",
       "      <td>0.00</td>\n",
       "      <td>0.01</td>\n",
       "      <td>0.00</td>\n",
       "      <td>0.00</td>\n",
       "      <td>0</td>\n",
       "    </tr>\n",
       "  </tbody>\n",
       "</table>\n",
       "<p>1000 rows × 43 columns</p>\n",
       "</div>"
      ],
      "text/plain": [
       "       id  duration protocol_type   service  flag  src_bytes  dst_bytes  land  \\\n",
       "0       1         0           tcp  ftp_data    SF        491          0     0   \n",
       "1       2         0           udp     other    SF        146          0     0   \n",
       "2       3         0           tcp   private    S0          0          0     0   \n",
       "3       4         0           tcp      http    SF        232       8153     0   \n",
       "4       5         0           tcp      http    SF        199        420     0   \n",
       "..    ...       ...           ...       ...   ...        ...        ...   ...   \n",
       "995   996       799           tcp    telnet  RSTR        676      23920     0   \n",
       "996   997         0           tcp      http    SF        209       3556     0   \n",
       "997   998         0           tcp   private    S0          0          0     0   \n",
       "998   999         0           tcp   private    S0          0          0     0   \n",
       "999  1000         0           tcp      http    SF        229        934     0   \n",
       "\n",
       "     wrong_fragment  urgent  ...  dst_host_srv_count  dst_host_same_srv_rate  \\\n",
       "0                 0       0  ...                  25                    0.17   \n",
       "1                 0       0  ...                   1                    0.00   \n",
       "2                 0       0  ...                  26                    0.10   \n",
       "3                 0       0  ...                 255                    1.00   \n",
       "4                 0       0  ...                 255                    1.00   \n",
       "..              ...     ...  ...                 ...                     ...   \n",
       "995               0       0  ...                  16                    0.06   \n",
       "996               0       0  ...                 255                    1.00   \n",
       "997               0       0  ...                   7                    0.03   \n",
       "998               0       0  ...                   5                    0.02   \n",
       "999               0       0  ...                 255                    1.00   \n",
       "\n",
       "     dst_host_diff_srv_rate  dst_host_same_src_port_rate  \\\n",
       "0                      0.03                         0.17   \n",
       "1                      0.60                         0.88   \n",
       "2                      0.05                         0.00   \n",
       "3                      0.00                         0.03   \n",
       "4                      0.00                         0.00   \n",
       "..                      ...                          ...   \n",
       "995                    0.06                         0.01   \n",
       "996                    0.00                         0.04   \n",
       "997                    0.07                         0.00   \n",
       "998                    0.07                         0.00   \n",
       "999                    0.00                         0.20   \n",
       "\n",
       "     dst_host_srv_diff_host_rate  dst_host_serror_rate  \\\n",
       "0                           0.00                  0.00   \n",
       "1                           0.00                  0.00   \n",
       "2                           0.00                  1.00   \n",
       "3                           0.04                  0.03   \n",
       "4                           0.00                  0.00   \n",
       "..                           ...                   ...   \n",
       "995                         0.00                  0.67   \n",
       "996                         0.04                  0.00   \n",
       "997                         0.00                  1.00   \n",
       "998                         0.00                  1.00   \n",
       "999                         0.05                  0.00   \n",
       "\n",
       "     dst_host_srv_serror_rate  dst_host_rerror_rate  dst_host_srv_rerror_rate  \\\n",
       "0                        0.00                  0.05                      0.00   \n",
       "1                        0.00                  0.00                      0.00   \n",
       "2                        1.00                  0.00                      0.00   \n",
       "3                        0.01                  0.00                      0.01   \n",
       "4                        0.00                  0.00                      0.00   \n",
       "..                        ...                   ...                       ...   \n",
       "995                      0.06                  0.01                      0.12   \n",
       "996                      0.00                  0.00                      0.00   \n",
       "997                      1.00                  0.00                      0.00   \n",
       "998                      1.00                  0.00                      0.00   \n",
       "999                      0.01                  0.00                      0.00   \n",
       "\n",
       "     class  \n",
       "0        0  \n",
       "1        0  \n",
       "2        1  \n",
       "3        0  \n",
       "4        0  \n",
       "..     ...  \n",
       "995      0  \n",
       "996      0  \n",
       "997      1  \n",
       "998      1  \n",
       "999      0  \n",
       "\n",
       "[1000 rows x 43 columns]"
      ]
     },
     "execution_count": 12,
     "metadata": {},
     "output_type": "execute_result"
    }
   ],
   "source": [
    "df1"
   ]
  },
  {
   "cell_type": "code",
   "execution_count": 14,
   "metadata": {
    "execution": {
     "iopub.execute_input": "2023-01-31T15:26:20.278877Z",
     "iopub.status.busy": "2023-01-31T15:26:20.278568Z",
     "iopub.status.idle": "2023-01-31T15:26:20.493363Z",
     "shell.execute_reply": "2023-01-31T15:26:20.49221Z",
     "shell.execute_reply.started": "2023-01-31T15:26:20.278826Z"
    }
   },
   "outputs": [
    {
     "data": {
      "text/plain": [
       "(array([516.,   0.,   0.,   0.,   0.,   0.,   0.,   0.,   0., 484.]),\n",
       " array([0. , 0.1, 0.2, 0.3, 0.4, 0.5, 0.6, 0.7, 0.8, 0.9, 1. ]),\n",
       " <BarContainer object of 10 artists>)"
      ]
     },
     "execution_count": 14,
     "metadata": {},
     "output_type": "execute_result"
    },
    {
     "data": {
      "image/png": "[encoded data removed]",
      "text/plain": [
       "<Figure size 640x480 with 1 Axes>"
      ]
     },
     "metadata": {},
     "output_type": "display_data"
    }
   ],
   "source": [
    "plt.hist(df1['class'])"
   ]
  },
  {
   "cell_type": "code",
   "execution_count": 15,
   "metadata": {
    "execution": {
     "iopub.execute_input": "2023-01-31T15:26:20.495781Z",
     "iopub.status.busy": "2023-01-31T15:26:20.495327Z",
     "iopub.status.idle": "2023-01-31T15:26:20.861008Z",
     "shell.execute_reply": "2023-01-31T15:26:20.859928Z",
     "shell.execute_reply.started": "2023-01-31T15:26:20.4957Z"
    }
   },
   "outputs": [
    {
     "ename": "ValueError",
     "evalue": "Could not interpret value `Total_Fwd_Packets` for parameter `x`",
     "output_type": "error",
     "traceback": [
      "\u001b[1;31m---------------------------------------------------------------------------\u001b[0m",
      "\u001b[1;31mValueError\u001b[0m                                Traceback (most recent call last)",
      "\u001b[1;32m~\\AppData\\Local\\Temp\\ipykernel_4756\\1779392796.py\u001b[0m in \u001b[0;36m<module>\u001b[1;34m\u001b[0m\n\u001b[1;32m----> 1\u001b[1;33m \u001b[0msns\u001b[0m\u001b[1;33m.\u001b[0m\u001b[0mscatterplot\u001b[0m\u001b[1;33m(\u001b[0m\u001b[0mx\u001b[0m\u001b[1;33m=\u001b[0m\u001b[1;34m'Total_Fwd_Packets'\u001b[0m\u001b[1;33m,\u001b[0m \u001b[0my\u001b[0m\u001b[1;33m=\u001b[0m\u001b[1;34m'Total_Backward_Packets'\u001b[0m\u001b[1;33m,\u001b[0m \u001b[0mhue\u001b[0m\u001b[1;33m=\u001b[0m\u001b[1;34m'Label'\u001b[0m\u001b[1;33m,\u001b[0m \u001b[0mdata\u001b[0m\u001b[1;33m=\u001b[0m\u001b[0mdf1\u001b[0m\u001b[1;33m.\u001b[0m\u001b[0msample\u001b[0m\u001b[1;33m(\u001b[0m\u001b[1;36m1000\u001b[0m\u001b[1;33m,\u001b[0m \u001b[0mrandom_state\u001b[0m\u001b[1;33m=\u001b[0m\u001b[1;36m42\u001b[0m\u001b[1;33m)\u001b[0m\u001b[1;33m)\u001b[0m\u001b[1;33m\u001b[0m\u001b[1;33m\u001b[0m\u001b[0m\n\u001b[0m",
      "\u001b[1;32m~\\anaconda3\\lib\\site-packages\\seaborn\\_decorators.py\u001b[0m in \u001b[0;36minner_f\u001b[1;34m(*args, **kwargs)\u001b[0m\n\u001b[0;32m     44\u001b[0m             )\n\u001b[0;32m     45\u001b[0m         \u001b[0mkwargs\u001b[0m\u001b[1;33m.\u001b[0m\u001b[0mupdate\u001b[0m\u001b[1;33m(\u001b[0m\u001b[1;33m{\u001b[0m\u001b[0mk\u001b[0m\u001b[1;33m:\u001b[0m \u001b[0marg\u001b[0m \u001b[1;32mfor\u001b[0m \u001b[0mk\u001b[0m\u001b[1;33m,\u001b[0m \u001b[0marg\u001b[0m \u001b[1;32min\u001b[0m \u001b[0mzip\u001b[0m\u001b[1;33m(\u001b[0m\u001b[0msig\u001b[0m\u001b[1;33m.\u001b[0m\u001b[0mparameters\u001b[0m\u001b[1;33m,\u001b[0m \u001b[0margs\u001b[0m\u001b[1;33m)\u001b[0m\u001b[1;33m}\u001b[0m\u001b[1;33m)\u001b[0m\u001b[1;33m\u001b[0m\u001b[1;33m\u001b[0m\u001b[0m\n\u001b[1;32m---> 46\u001b[1;33m         \u001b[1;32mreturn\u001b[0m \u001b[0mf\u001b[0m\u001b[1;33m(\u001b[0m\u001b[1;33m**\u001b[0m\u001b[0mkwargs\u001b[0m\u001b[1;33m)\u001b[0m\u001b[1;33m\u001b[0m\u001b[1;33m\u001b[0m\u001b[0m\n\u001b[0m\u001b[0;32m     47\u001b[0m     \u001b[1;32mreturn\u001b[0m \u001b[0minner_f\u001b[0m\u001b[1;33m\u001b[0m\u001b[1;33m\u001b[0m\u001b[0m\n\u001b[0;32m     48\u001b[0m \u001b[1;33m\u001b[0m\u001b[0m\n",
      "\u001b[1;32m~\\anaconda3\\lib\\site-packages\\seaborn\\relational.py\u001b[0m in \u001b[0;36mscatterplot\u001b[1;34m(x, y, hue, style, size, data, palette, hue_order, hue_norm, sizes, size_order, size_norm, markers, style_order, x_bins, y_bins, units, estimator, ci, n_boot, alpha, x_jitter, y_jitter, legend, ax, **kwargs)\u001b[0m\n\u001b[0;32m    806\u001b[0m \u001b[1;33m\u001b[0m\u001b[0m\n\u001b[0;32m    807\u001b[0m     \u001b[0mvariables\u001b[0m \u001b[1;33m=\u001b[0m \u001b[0m_ScatterPlotter\u001b[0m\u001b[1;33m.\u001b[0m\u001b[0mget_semantics\u001b[0m\u001b[1;33m(\u001b[0m\u001b[0mlocals\u001b[0m\u001b[1;33m(\u001b[0m\u001b[1;33m)\u001b[0m\u001b[1;33m)\u001b[0m\u001b[1;33m\u001b[0m\u001b[1;33m\u001b[0m\u001b[0m\n\u001b[1;32m--> 808\u001b[1;33m     p = _ScatterPlotter(\n\u001b[0m\u001b[0;32m    809\u001b[0m         \u001b[0mdata\u001b[0m\u001b[1;33m=\u001b[0m\u001b[0mdata\u001b[0m\u001b[1;33m,\u001b[0m \u001b[0mvariables\u001b[0m\u001b[1;33m=\u001b[0m\u001b[0mvariables\u001b[0m\u001b[1;33m,\u001b[0m\u001b[1;33m\u001b[0m\u001b[1;33m\u001b[0m\u001b[0m\n\u001b[0;32m    810\u001b[0m         \u001b[0mx_bins\u001b[0m\u001b[1;33m=\u001b[0m\u001b[0mx_bins\u001b[0m\u001b[1;33m,\u001b[0m \u001b[0my_bins\u001b[0m\u001b[1;33m=\u001b[0m\u001b[0my_bins\u001b[0m\u001b[1;33m,\u001b[0m\u001b[1;33m\u001b[0m\u001b[1;33m\u001b[0m\u001b[0m\n",
      "\u001b[1;32m~\\anaconda3\\lib\\site-packages\\seaborn\\relational.py\u001b[0m in \u001b[0;36m__init__\u001b[1;34m(self, data, variables, x_bins, y_bins, estimator, ci, n_boot, alpha, x_jitter, y_jitter, legend)\u001b[0m\n\u001b[0;32m    585\u001b[0m         )\n\u001b[0;32m    586\u001b[0m \u001b[1;33m\u001b[0m\u001b[0m\n\u001b[1;32m--> 587\u001b[1;33m         \u001b[0msuper\u001b[0m\u001b[1;33m(\u001b[0m\u001b[1;33m)\u001b[0m\u001b[1;33m.\u001b[0m\u001b[0m__init__\u001b[0m\u001b[1;33m(\u001b[0m\u001b[0mdata\u001b[0m\u001b[1;33m=\u001b[0m\u001b[0mdata\u001b[0m\u001b[1;33m,\u001b[0m \u001b[0mvariables\u001b[0m\u001b[1;33m=\u001b[0m\u001b[0mvariables\u001b[0m\u001b[1;33m)\u001b[0m\u001b[1;33m\u001b[0m\u001b[1;33m\u001b[0m\u001b[0m\n\u001b[0m\u001b[0;32m    588\u001b[0m \u001b[1;33m\u001b[0m\u001b[0m\n\u001b[0;32m    589\u001b[0m         \u001b[0mself\u001b[0m\u001b[1;33m.\u001b[0m\u001b[0malpha\u001b[0m \u001b[1;33m=\u001b[0m \u001b[0malpha\u001b[0m\u001b[1;33m\u001b[0m\u001b[1;33m\u001b[0m\u001b[0m\n",
      "\u001b[1;32m~\\anaconda3\\lib\\site-packages\\seaborn\\_core.py\u001b[0m in \u001b[0;36m__init__\u001b[1;34m(self, data, variables)\u001b[0m\n\u001b[0;32m    603\u001b[0m     \u001b[1;32mdef\u001b[0m \u001b[0m__init__\u001b[0m\u001b[1;33m(\u001b[0m\u001b[0mself\u001b[0m\u001b[1;33m,\u001b[0m \u001b[0mdata\u001b[0m\u001b[1;33m=\u001b[0m\u001b[1;32mNone\u001b[0m\u001b[1;33m,\u001b[0m \u001b[0mvariables\u001b[0m\u001b[1;33m=\u001b[0m\u001b[1;33m{\u001b[0m\u001b[1;33m}\u001b[0m\u001b[1;33m)\u001b[0m\u001b[1;33m:\u001b[0m\u001b[1;33m\u001b[0m\u001b[1;33m\u001b[0m\u001b[0m\n\u001b[0;32m    604\u001b[0m \u001b[1;33m\u001b[0m\u001b[0m\n\u001b[1;32m--> 605\u001b[1;33m         \u001b[0mself\u001b[0m\u001b[1;33m.\u001b[0m\u001b[0massign_variables\u001b[0m\u001b[1;33m(\u001b[0m\u001b[0mdata\u001b[0m\u001b[1;33m,\u001b[0m \u001b[0mvariables\u001b[0m\u001b[1;33m)\u001b[0m\u001b[1;33m\u001b[0m\u001b[1;33m\u001b[0m\u001b[0m\n\u001b[0m\u001b[0;32m    606\u001b[0m \u001b[1;33m\u001b[0m\u001b[0m\n\u001b[0;32m    607\u001b[0m         \u001b[1;32mfor\u001b[0m \u001b[0mvar\u001b[0m\u001b[1;33m,\u001b[0m \u001b[0mcls\u001b[0m \u001b[1;32min\u001b[0m \u001b[0mself\u001b[0m\u001b[1;33m.\u001b[0m\u001b[0m_semantic_mappings\u001b[0m\u001b[1;33m.\u001b[0m\u001b[0mitems\u001b[0m\u001b[1;33m(\u001b[0m\u001b[1;33m)\u001b[0m\u001b[1;33m:\u001b[0m\u001b[1;33m\u001b[0m\u001b[1;33m\u001b[0m\u001b[0m\n",
      "\u001b[1;32m~\\anaconda3\\lib\\site-packages\\seaborn\\_core.py\u001b[0m in \u001b[0;36massign_variables\u001b[1;34m(self, data, variables)\u001b[0m\n\u001b[0;32m    666\u001b[0m         \u001b[1;32melse\u001b[0m\u001b[1;33m:\u001b[0m\u001b[1;33m\u001b[0m\u001b[1;33m\u001b[0m\u001b[0m\n\u001b[0;32m    667\u001b[0m             \u001b[0mself\u001b[0m\u001b[1;33m.\u001b[0m\u001b[0minput_format\u001b[0m \u001b[1;33m=\u001b[0m \u001b[1;34m\"long\"\u001b[0m\u001b[1;33m\u001b[0m\u001b[1;33m\u001b[0m\u001b[0m\n\u001b[1;32m--> 668\u001b[1;33m             plot_data, variables = self._assign_variables_longform(\n\u001b[0m\u001b[0;32m    669\u001b[0m                 \u001b[0mdata\u001b[0m\u001b[1;33m,\u001b[0m \u001b[1;33m**\u001b[0m\u001b[0mvariables\u001b[0m\u001b[1;33m,\u001b[0m\u001b[1;33m\u001b[0m\u001b[1;33m\u001b[0m\u001b[0m\n\u001b[0;32m    670\u001b[0m             )\n",
      "\u001b[1;32m~\\anaconda3\\lib\\site-packages\\seaborn\\_core.py\u001b[0m in \u001b[0;36m_assign_variables_longform\u001b[1;34m(self, data, **kwargs)\u001b[0m\n\u001b[0;32m    901\u001b[0m \u001b[1;33m\u001b[0m\u001b[0m\n\u001b[0;32m    902\u001b[0m                 \u001b[0merr\u001b[0m \u001b[1;33m=\u001b[0m \u001b[1;34mf\"Could not interpret value `{val}` for parameter `{key}`\"\u001b[0m\u001b[1;33m\u001b[0m\u001b[1;33m\u001b[0m\u001b[0m\n\u001b[1;32m--> 903\u001b[1;33m                 \u001b[1;32mraise\u001b[0m \u001b[0mValueError\u001b[0m\u001b[1;33m(\u001b[0m\u001b[0merr\u001b[0m\u001b[1;33m)\u001b[0m\u001b[1;33m\u001b[0m\u001b[1;33m\u001b[0m\u001b[0m\n\u001b[0m\u001b[0;32m    904\u001b[0m \u001b[1;33m\u001b[0m\u001b[0m\n\u001b[0;32m    905\u001b[0m             \u001b[1;32melse\u001b[0m\u001b[1;33m:\u001b[0m\u001b[1;33m\u001b[0m\u001b[1;33m\u001b[0m\u001b[0m\n",
      "\u001b[1;31mValueError\u001b[0m: Could not interpret value `Total_Fwd_Packets` for parameter `x`"
     ]
    }
   ],
   "source": [
    "sns.scatterplot(x='Total_Fwd_Packets', y='Total_Backward_Packets', hue='Label', data=df1.sample(1000, random_state=42))"
   ]
  },
  {
   "cell_type": "code",
   "execution_count": null,
   "metadata": {
    "execution": {
     "iopub.execute_input": "2023-01-31T15:26:20.863353Z",
     "iopub.status.busy": "2023-01-31T15:26:20.862911Z",
     "iopub.status.idle": "2023-01-31T15:26:21.128849Z",
     "shell.execute_reply": "2023-01-31T15:26:21.127739Z",
     "shell.execute_reply.started": "2023-01-31T15:26:20.863276Z"
    }
   },
   "outputs": [],
   "source": [
    "# plotting the target variable\n",
    "labelCount = df1['Label'].value_counts(normalize=True)*100\n",
    "ax = sns.barplot(x=labelCount.index, y=labelCount.values)\n",
    "ax1 = ax.twinx()\n",
    "ax.set_ylabel('Frequency [%]')\n",
    "ax1.set_ylabel(\"Count (in millions)\")\n",
    "ax1.set_ylim(0, len(df1)/10**6)\n",
    "ax.set_ylim(0, 100)\n",
    "plt.title('Target Variable')"
   ]
  },
  {
   "cell_type": "code",
   "execution_count": null,
   "metadata": {
    "execution": {
     "iopub.execute_input": "2023-01-31T15:26:21.130926Z",
     "iopub.status.busy": "2023-01-31T15:26:21.130607Z",
     "iopub.status.idle": "2023-01-31T15:28:51.966951Z",
     "shell.execute_reply": "2023-01-31T15:28:51.965523Z",
     "shell.execute_reply.started": "2023-01-31T15:26:21.130873Z"
    }
   },
   "outputs": [],
   "source": [
    "cnt = pd.crosstab(df1['Flow_Duration'], df1['Label'])\n",
    "cnt = cnt.stack().reset_index().rename(columns={0: 'Count'})\n",
    "sns.barplot(x=cnt['Flow_Duration'], y=cnt['Count'], hue=cnt['Label'])"
   ]
  },
  {
   "cell_type": "code",
   "execution_count": null,
   "metadata": {
    "execution": {
     "iopub.execute_input": "2023-01-31T15:28:51.972816Z",
     "iopub.status.busy": "2023-01-31T15:28:51.972445Z",
     "iopub.status.idle": "2023-01-31T15:28:52.937951Z",
     "shell.execute_reply": "2023-01-31T15:28:52.936737Z",
     "shell.execute_reply.started": "2023-01-31T15:28:51.972764Z"
    }
   },
   "outputs": [],
   "source": [
    "sns.set(style='whitegrid')\n",
    " \n",
    "sns.boxplot(x='Total_Fwd_Packets', y='Total_Backward_Packets', data=df1)"
   ]
  },
  {
   "cell_type": "code",
   "execution_count": null,
   "metadata": {
    "execution": {
     "iopub.execute_input": "2023-01-31T15:28:52.942557Z",
     "iopub.status.busy": "2023-01-31T15:28:52.942195Z",
     "iopub.status.idle": "2023-01-31T15:29:10.558055Z",
     "shell.execute_reply": "2023-01-31T15:29:10.556824Z",
     "shell.execute_reply.started": "2023-01-31T15:28:52.942505Z"
    }
   },
   "outputs": [],
   "source": [
    "sns.swarmplot(x =\"Idle_Max\", y = \"Idle_Min\", \n",
    "              data = df1, size = 5)\n",
    "plt.show()"
   ]
  },
  {
   "cell_type": "markdown",
   "metadata": {},
   "source": [
    "### Let's check 2nd file: /kaggle/input/train_mosaic.csv"
   ]
  },
  {
   "cell_type": "code",
   "execution_count": null,
   "metadata": {
    "_kg_hide-input": false,
    "execution": {
     "iopub.execute_input": "2023-01-31T15:29:10.560201Z",
     "iopub.status.busy": "2023-01-31T15:29:10.559804Z",
     "iopub.status.idle": "2023-01-31T15:29:10.590769Z",
     "shell.execute_reply": "2023-01-31T15:29:10.58965Z",
     "shell.execute_reply.started": "2023-01-31T15:29:10.560135Z"
    }
   },
   "outputs": [],
   "source": [
    "nRowsRead = 1000 # specify No. of rows. 'None' for whole file\n",
    "# train_mosaic.csv may have more rows in reality, but we are only loading/previewing the first 1000 rows\n",
    "df2 = pd.read_csv('/kaggle/input/train_mosaic.csv', delimiter=',', nrows = nRowsRead)\n",
    "df2.dataframeName = 'train_mosaic.csv'\n",
    "nRow, nCol = df2.shape\n",
    "print(f'There are {nRow} rows and {nCol} columns')"
   ]
  },
  {
   "cell_type": "code",
   "execution_count": null,
   "metadata": {
    "_kg_hide-input": false,
    "execution": {
     "iopub.execute_input": "2023-01-31T15:29:10.593296Z",
     "iopub.status.busy": "2023-01-31T15:29:10.592862Z",
     "iopub.status.idle": "2023-01-31T15:29:10.629854Z",
     "shell.execute_reply": "2023-01-31T15:29:10.628715Z",
     "shell.execute_reply.started": "2023-01-31T15:29:10.593217Z"
    }
   },
   "outputs": [],
   "source": [
    "df2.head()"
   ]
  },
  {
   "cell_type": "code",
   "execution_count": null,
   "metadata": {
    "execution": {
     "iopub.execute_input": "2023-01-31T15:29:10.632727Z",
     "iopub.status.busy": "2023-01-31T15:29:10.632091Z",
     "iopub.status.idle": "2023-01-31T15:29:10.642209Z",
     "shell.execute_reply": "2023-01-31T15:29:10.640912Z",
     "shell.execute_reply.started": "2023-01-31T15:29:10.632464Z"
    }
   },
   "outputs": [],
   "source": [
    "df2.columns"
   ]
  },
  {
   "cell_type": "code",
   "execution_count": null,
   "metadata": {
    "execution": {
     "iopub.execute_input": "2023-01-31T15:29:10.645043Z",
     "iopub.status.busy": "2023-01-31T15:29:10.644333Z",
     "iopub.status.idle": "2023-01-31T15:29:10.903679Z",
     "shell.execute_reply": "2023-01-31T15:29:10.902572Z",
     "shell.execute_reply.started": "2023-01-31T15:29:10.644761Z"
    }
   },
   "outputs": [],
   "source": [
    "df2.describe()"
   ]
  },
  {
   "cell_type": "code",
   "execution_count": null,
   "metadata": {
    "execution": {
     "iopub.execute_input": "2023-01-31T15:29:10.906115Z",
     "iopub.status.busy": "2023-01-31T15:29:10.905447Z",
     "iopub.status.idle": "2023-01-31T15:29:10.914565Z",
     "shell.execute_reply": "2023-01-31T15:29:10.913117Z",
     "shell.execute_reply.started": "2023-01-31T15:29:10.90603Z"
    }
   },
   "outputs": [],
   "source": [
    "df2.shape"
   ]
  },
  {
   "cell_type": "markdown",
   "metadata": {},
   "source": [
    "Distribution graphs (histogram/bar graph) of sampled columns:"
   ]
  },
  {
   "cell_type": "code",
   "execution_count": null,
   "metadata": {
    "_kg_hide-input": false,
    "execution": {
     "iopub.execute_input": "2023-01-31T15:35:25.850123Z",
     "iopub.status.busy": "2023-01-31T15:35:25.849515Z",
     "iopub.status.idle": "2023-01-31T15:35:27.589461Z",
     "shell.execute_reply": "2023-01-31T15:35:27.588341Z",
     "shell.execute_reply.started": "2023-01-31T15:35:25.85002Z"
    }
   },
   "outputs": [],
   "source": [
    "plotPerColumnDistribution(df2, 5, 5)"
   ]
  },
  {
   "cell_type": "markdown",
   "metadata": {},
   "source": [
    "Correlation matrix:"
   ]
  },
  {
   "cell_type": "code",
   "execution_count": null,
   "metadata": {
    "_kg_hide-input": false,
    "execution": {
     "iopub.execute_input": "2023-01-31T15:35:34.512924Z",
     "iopub.status.busy": "2023-01-31T15:35:34.51241Z",
     "iopub.status.idle": "2023-01-31T15:35:36.864316Z",
     "shell.execute_reply": "2023-01-31T15:35:36.863174Z",
     "shell.execute_reply.started": "2023-01-31T15:35:34.512768Z"
    }
   },
   "outputs": [],
   "source": [
    "plotCorrelationMatrix(df2, 10)"
   ]
  },
  {
   "cell_type": "markdown",
   "metadata": {},
   "source": [
    "\n",
    "\n",
    "Scatter and density plots:\n"
   ]
  },
  {
   "cell_type": "markdown",
   "metadata": {},
   "source": [
    "> Training Data:"
   ]
  },
  {
   "cell_type": "code",
   "execution_count": null,
   "metadata": {
    "_kg_hide-input": false,
    "execution": {
     "iopub.execute_input": "2023-01-31T15:29:17.093404Z",
     "iopub.status.busy": "2023-01-31T15:29:17.092936Z",
     "iopub.status.idle": "2023-01-31T15:29:17.144165Z",
     "shell.execute_reply": "2023-01-31T15:29:17.143025Z",
     "shell.execute_reply.started": "2023-01-31T15:29:17.093353Z"
    }
   },
   "outputs": [],
   "source": [
    "nRowsRead = 3000 # specify No. of row. 'None' for whole data\n",
    "# test_mosaic.csv may have more rows in reality, but we are only loading/previewing the first 1000 rows\n",
    "train_data = pd.read_csv('/kaggle/input/train_mosaic.csv', delimiter=',', nrows = nRowsRead)\n",
    "train_data.dataframeName = 'train_mosaic.csv'\n",
    "nRow, nCol = train_data.shape\n",
    "print(f'There are {nRow} rows and {nCol} columns')"
   ]
  },
  {
   "cell_type": "markdown",
   "metadata": {},
   "source": [
    "Let's take a look what data looks like:"
   ]
  },
  {
   "cell_type": "code",
   "execution_count": null,
   "metadata": {
    "execution": {
     "iopub.execute_input": "2023-01-31T15:29:17.146405Z",
     "iopub.status.busy": "2023-01-31T15:29:17.14575Z",
     "iopub.status.idle": "2023-01-31T15:29:17.186437Z",
     "shell.execute_reply": "2023-01-31T15:29:17.184842Z",
     "shell.execute_reply.started": "2023-01-31T15:29:17.146151Z"
    }
   },
   "outputs": [],
   "source": [
    "train_data.head()"
   ]
  },
  {
   "cell_type": "code",
   "execution_count": null,
   "metadata": {
    "execution": {
     "iopub.execute_input": "2023-01-31T15:29:17.190051Z",
     "iopub.status.busy": "2023-01-31T15:29:17.189724Z",
     "iopub.status.idle": "2023-01-31T15:29:17.197286Z",
     "shell.execute_reply": "2023-01-31T15:29:17.196214Z",
     "shell.execute_reply.started": "2023-01-31T15:29:17.190001Z"
    }
   },
   "outputs": [],
   "source": [
    "train_data.shape"
   ]
  },
  {
   "cell_type": "markdown",
   "metadata": {},
   "source": [
    "> Testing Data:"
   ]
  },
  {
   "cell_type": "code",
   "execution_count": null,
   "metadata": {
    "execution": {
     "iopub.execute_input": "2023-01-31T15:29:17.199503Z",
     "iopub.status.busy": "2023-01-31T15:29:17.199153Z",
     "iopub.status.idle": "2023-01-31T15:29:17.250261Z",
     "shell.execute_reply": "2023-01-31T15:29:17.24885Z",
     "shell.execute_reply.started": "2023-01-31T15:29:17.19944Z"
    }
   },
   "outputs": [],
   "source": [
    "nRowsRead = 3000 # specify No. of row. 'None' for whole data\n",
    "# test_mosaic.csv may have more rows in reality, but we are only loading/previewing the first 1000 rows\n",
    "test_data = pd.read_csv('/kaggle/input/test_mosaic.csv', delimiter=',', nrows = nRowsRead)\n",
    "test_data.dataframeName = 'test_mosaic.csv'\n",
    "nRow, nCol = test_data.shape\n",
    "print(f'There are {nRow} rows and {nCol} columns')"
   ]
  },
  {
   "cell_type": "markdown",
   "metadata": {},
   "source": [
    "Let's take a look what data looks like:"
   ]
  },
  {
   "cell_type": "code",
   "execution_count": null,
   "metadata": {
    "execution": {
     "iopub.execute_input": "2023-01-31T15:29:17.25192Z",
     "iopub.status.busy": "2023-01-31T15:29:17.251552Z",
     "iopub.status.idle": "2023-01-31T15:29:17.284312Z",
     "shell.execute_reply": "2023-01-31T15:29:17.282699Z",
     "shell.execute_reply.started": "2023-01-31T15:29:17.251863Z"
    }
   },
   "outputs": [],
   "source": [
    "test_data.head()"
   ]
  },
  {
   "cell_type": "code",
   "execution_count": null,
   "metadata": {
    "execution": {
     "iopub.execute_input": "2023-01-31T15:29:17.286412Z",
     "iopub.status.busy": "2023-01-31T15:29:17.286114Z",
     "iopub.status.idle": "2023-01-31T15:32:32.166489Z",
     "shell.execute_reply": "2023-01-31T15:32:32.165413Z",
     "shell.execute_reply.started": "2023-01-31T15:29:17.286364Z"
    }
   },
   "outputs": [],
   "source": [
    "sns.swarmplot(x =\"Idle_Max\", y = \"Idle_Min\", \n",
    "              data = train_data, size = 5)\n",
    "plt.show()"
   ]
  },
  {
   "cell_type": "code",
   "execution_count": null,
   "metadata": {
    "execution": {
     "iopub.execute_input": "2023-01-31T15:32:32.168717Z",
     "iopub.status.busy": "2023-01-31T15:32:32.168301Z",
     "iopub.status.idle": "2023-01-31T15:32:33.740563Z",
     "shell.execute_reply": "2023-01-31T15:32:33.739366Z",
     "shell.execute_reply.started": "2023-01-31T15:32:32.168649Z"
    }
   },
   "outputs": [],
   "source": [
    "sns.set(style='whitegrid')\n",
    " \n",
    "sns.boxplot(x='Total_Fwd_Packets', y='Total_Backward_Packets', data=train_data)"
   ]
  },
  {
   "cell_type": "code",
   "execution_count": null,
   "metadata": {
    "execution": {
     "iopub.execute_input": "2023-01-31T15:32:33.743539Z",
     "iopub.status.busy": "2023-01-31T15:32:33.742913Z",
     "iopub.status.idle": "2023-01-31T15:32:34.98639Z",
     "shell.execute_reply": "2023-01-31T15:32:34.98516Z",
     "shell.execute_reply.started": "2023-01-31T15:32:33.743464Z"
    }
   },
   "outputs": [],
   "source": [
    "sns.set(style = 'whitegrid')\n",
    "plt.figure(figsize=(9,6)) \n",
    "sns.violinplot(x =\"Total_Fwd_Packets\",\n",
    "             y =\"Total_Backward_Packets\",\n",
    "             data = train_data)\n",
    "plt.show()"
   ]
  },
  {
   "cell_type": "code",
   "execution_count": null,
   "metadata": {
    "execution": {
     "iopub.execute_input": "2023-01-31T15:32:34.988956Z",
     "iopub.status.busy": "2023-01-31T15:32:34.988403Z",
     "iopub.status.idle": "2023-01-31T15:32:35.596758Z",
     "shell.execute_reply": "2023-01-31T15:32:35.595648Z",
     "shell.execute_reply.started": "2023-01-31T15:32:34.98887Z"
    }
   },
   "outputs": [],
   "source": [
    "sns.lmplot(x =\"Total_Fwd_Packets\",\n",
    "             y =\"Total_Backward_Packets\", data=train_data)"
   ]
  },
  {
   "cell_type": "code",
   "execution_count": null,
   "metadata": {
    "execution": {
     "iopub.execute_input": "2023-01-31T15:32:35.599058Z",
     "iopub.status.busy": "2023-01-31T15:32:35.598617Z",
     "iopub.status.idle": "2023-01-31T15:32:36.321834Z",
     "shell.execute_reply": "2023-01-31T15:32:36.320492Z",
     "shell.execute_reply.started": "2023-01-31T15:32:35.598977Z"
    }
   },
   "outputs": [],
   "source": [
    "sns.jointplot(x =\"Total_Fwd_Packets\",\n",
    "             y =\"Total_Backward_Packets\", data=train_data)"
   ]
  },
  {
   "cell_type": "markdown",
   "metadata": {},
   "source": [
    "Now, Identify the classes."
   ]
  },
  {
   "cell_type": "code",
   "execution_count": null,
   "metadata": {
    "execution": {
     "iopub.execute_input": "2023-01-31T15:32:36.324207Z",
     "iopub.status.busy": "2023-01-31T15:32:36.323794Z",
     "iopub.status.idle": "2023-01-31T15:32:36.334068Z",
     "shell.execute_reply": "2023-01-31T15:32:36.332736Z",
     "shell.execute_reply.started": "2023-01-31T15:32:36.324137Z"
    }
   },
   "outputs": [],
   "source": [
    "train_data['Label'].unique()\n",
    "test_data['Label'].unique()"
   ]
  },
  {
   "cell_type": "markdown",
   "metadata": {},
   "source": [
    "Encode these string classes to numeric to perform further processes. "
   ]
  },
  {
   "cell_type": "code",
   "execution_count": null,
   "metadata": {
    "execution": {
     "iopub.execute_input": "2023-01-31T15:32:36.336105Z",
     "iopub.status.busy": "2023-01-31T15:32:36.335784Z",
     "iopub.status.idle": "2023-01-31T15:32:36.346538Z",
     "shell.execute_reply": "2023-01-31T15:32:36.345394Z",
     "shell.execute_reply.started": "2023-01-31T15:32:36.33605Z"
    }
   },
   "outputs": [],
   "source": [
    "# label_encoder object knows how to understand word labels.\n",
    "label_encoder = preprocessing.LabelEncoder()\n",
    "train_data['Label'] = label_encoder.fit_transform(train_data['Label'])\n",
    "test_data['Label'] = label_encoder.fit_transform(test_data['Label'])"
   ]
  },
  {
   "cell_type": "markdown",
   "metadata": {},
   "source": [
    "> Lets check the updated data."
   ]
  },
  {
   "cell_type": "code",
   "execution_count": null,
   "metadata": {
    "execution": {
     "iopub.execute_input": "2023-01-31T15:32:36.348242Z",
     "iopub.status.busy": "2023-01-31T15:32:36.347873Z",
     "iopub.status.idle": "2023-01-31T15:32:36.385789Z",
     "shell.execute_reply": "2023-01-31T15:32:36.384529Z",
     "shell.execute_reply.started": "2023-01-31T15:32:36.348181Z"
    }
   },
   "outputs": [],
   "source": [
    "train_data.head()"
   ]
  },
  {
   "cell_type": "code",
   "execution_count": null,
   "metadata": {
    "execution": {
     "iopub.execute_input": "2023-01-31T15:32:36.387869Z",
     "iopub.status.busy": "2023-01-31T15:32:36.387421Z",
     "iopub.status.idle": "2023-01-31T15:32:36.423245Z",
     "shell.execute_reply": "2023-01-31T15:32:36.42235Z",
     "shell.execute_reply.started": "2023-01-31T15:32:36.387792Z"
    }
   },
   "outputs": [],
   "source": [
    "test_data.head()"
   ]
  },
  {
   "cell_type": "markdown",
   "metadata": {},
   "source": [
    "Next, Split the dataset into train and test. As convention in machine learning, X_train,X_test are used for features and y_train,y_test are used for classes. As our data is already in the form of two files. train_data and test data. We will split it in this way:"
   ]
  },
  {
   "cell_type": "code",
   "execution_count": null,
   "metadata": {
    "execution": {
     "iopub.execute_input": "2023-01-31T15:32:36.425155Z",
     "iopub.status.busy": "2023-01-31T15:32:36.424806Z",
     "iopub.status.idle": "2023-01-31T15:32:36.436852Z",
     "shell.execute_reply": "2023-01-31T15:32:36.435777Z",
     "shell.execute_reply.started": "2023-01-31T15:32:36.425057Z"
    }
   },
   "outputs": [],
   "source": [
    "X_train = train_data.drop('Label',axis=1)\n",
    "X_test = test_data.drop('Label',axis=1)\n",
    "y_train = train_data['Label']\n",
    "y_test = test_data['Label']\n"
   ]
  },
  {
   "cell_type": "markdown",
   "metadata": {},
   "source": [
    "Let's check the train and test data now. "
   ]
  },
  {
   "cell_type": "code",
   "execution_count": null,
   "metadata": {
    "execution": {
     "iopub.execute_input": "2023-01-31T15:32:36.439165Z",
     "iopub.status.busy": "2023-01-31T15:32:36.438675Z",
     "iopub.status.idle": "2023-01-31T15:32:36.471227Z",
     "shell.execute_reply": "2023-01-31T15:32:36.469779Z",
     "shell.execute_reply.started": "2023-01-31T15:32:36.439013Z"
    }
   },
   "outputs": [],
   "source": [
    "X_train.head()"
   ]
  },
  {
   "cell_type": "code",
   "execution_count": null,
   "metadata": {
    "execution": {
     "iopub.execute_input": "2023-01-31T15:32:36.473221Z",
     "iopub.status.busy": "2023-01-31T15:32:36.472855Z",
     "iopub.status.idle": "2023-01-31T15:32:36.481824Z",
     "shell.execute_reply": "2023-01-31T15:32:36.480756Z",
     "shell.execute_reply.started": "2023-01-31T15:32:36.473155Z"
    }
   },
   "outputs": [],
   "source": [
    "y_train.head()"
   ]
  },
  {
   "cell_type": "code",
   "execution_count": null,
   "metadata": {
    "execution": {
     "iopub.execute_input": "2023-01-31T15:32:36.483539Z",
     "iopub.status.busy": "2023-01-31T15:32:36.483209Z",
     "iopub.status.idle": "2023-01-31T15:32:36.523277Z",
     "shell.execute_reply": "2023-01-31T15:32:36.52188Z",
     "shell.execute_reply.started": "2023-01-31T15:32:36.483482Z"
    }
   },
   "outputs": [],
   "source": [
    "X_test.head()"
   ]
  },
  {
   "cell_type": "code",
   "execution_count": null,
   "metadata": {
    "execution": {
     "iopub.execute_input": "2023-01-31T15:32:36.525732Z",
     "iopub.status.busy": "2023-01-31T15:32:36.525347Z",
     "iopub.status.idle": "2023-01-31T15:32:36.537562Z",
     "shell.execute_reply": "2023-01-31T15:32:36.536219Z",
     "shell.execute_reply.started": "2023-01-31T15:32:36.525664Z"
    }
   },
   "outputs": [],
   "source": [
    "y_test.head()"
   ]
  },
  {
   "cell_type": "markdown",
   "metadata": {},
   "source": [
    "Now, we ll implement four algorithms Naive Bayes and Decision Tree. Then at the end we ll comapre the result's from all of these algorithms."
   ]
  },
  {
   "cell_type": "markdown",
   "metadata": {},
   "source": [
    "# Naive Bayes"
   ]
  },
  {
   "cell_type": "code",
   "execution_count": null,
   "metadata": {
    "execution": {
     "iopub.execute_input": "2023-01-31T15:32:36.539619Z",
     "iopub.status.busy": "2023-01-31T15:32:36.53928Z",
     "iopub.status.idle": "2023-01-31T15:32:36.57012Z",
     "shell.execute_reply": "2023-01-31T15:32:36.568972Z",
     "shell.execute_reply.started": "2023-01-31T15:32:36.539562Z"
    }
   },
   "outputs": [],
   "source": [
    "# create gaussian naive bayes classifier\n",
    "gnb = GaussianNB()\n",
    "#Train the model using the training sets\n",
    "gnb.fit(X_train,y_train)\n",
    "#Predict the response for test dataset\n",
    "gnb_pred = gnb.predict(X_test)\n",
    "# Model Accuracy, how often is the classifier correct?\n",
    "print(\"Accuracy : \",metrics.accuracy_score(y_test,gnb_pred))"
   ]
  },
  {
   "cell_type": "markdown",
   "metadata": {},
   "source": [
    "# Decision Tree"
   ]
  },
  {
   "cell_type": "code",
   "execution_count": null,
   "metadata": {
    "execution": {
     "iopub.execute_input": "2023-01-31T15:32:36.572551Z",
     "iopub.status.busy": "2023-01-31T15:32:36.572065Z",
     "iopub.status.idle": "2023-01-31T15:32:36.616143Z",
     "shell.execute_reply": "2023-01-31T15:32:36.614986Z",
     "shell.execute_reply.started": "2023-01-31T15:32:36.572415Z"
    }
   },
   "outputs": [],
   "source": [
    "# Create Decision Tree classifer object\n",
    "clf = DecisionTreeClassifier()\n",
    "\n",
    "# Train Decision Tree Classifer\n",
    "clf = clf.fit(X_train,y_train)\n",
    "\n",
    "#Predict the response for test dataset\n",
    "dt_pred = clf.predict(X_test)\n",
    "# Model Accuracy, how often is the classifier correct?\n",
    "print(\"Accuracy:\",metrics.accuracy_score(y_test, dt_pred))"
   ]
  },
  {
   "cell_type": "markdown",
   "metadata": {},
   "source": [
    "# Decion Tree"
   ]
  },
  {
   "cell_type": "code",
   "execution_count": null,
   "metadata": {
    "execution": {
     "iopub.execute_input": "2023-01-31T15:32:36.617827Z",
     "iopub.status.busy": "2023-01-31T15:32:36.6175Z",
     "iopub.status.idle": "2023-01-31T15:32:36.672716Z",
     "shell.execute_reply": "2023-01-31T15:32:36.671514Z",
     "shell.execute_reply.started": "2023-01-31T15:32:36.617772Z"
    }
   },
   "outputs": [],
   "source": [
    "# Create Decision Tree classifer object\n",
    "clf = DecisionTreeClassifier(criterion=\"entropy\", max_depth=3)\n",
    "\n",
    "# Train Decision Tree Classifer\n",
    "clf = clf.fit(X_train,y_train)\n",
    "\n",
    "#Predict the response for test dataset\n",
    "dt_pred1 = clf.predict(X_test)\n",
    "\n",
    "# Model Accuracy, how often is the classifier correct?\n",
    "print(\"Accuracy:\",metrics.accuracy_score(y_test, dt_pred1))"
   ]
  },
  {
   "cell_type": "code",
   "execution_count": null,
   "metadata": {
    "execution": {
     "iopub.execute_input": "2023-01-31T15:32:36.674843Z",
     "iopub.status.busy": "2023-01-31T15:32:36.674428Z",
     "iopub.status.idle": "2023-01-31T15:32:36.682132Z",
     "shell.execute_reply": "2023-01-31T15:32:36.680876Z",
     "shell.execute_reply.started": "2023-01-31T15:32:36.674781Z"
    }
   },
   "outputs": [],
   "source": [
    "from sklearn.model_selection import train_test_split\n",
    "from sklearn.ensemble import RandomForestClassifier, RandomForestRegressor\n",
    "from sklearn.neighbors import KNeighborsClassifier, KNeighborsRegressor\n",
    "from sklearn.model_selection import GridSearchCV\n",
    "from sklearn.metrics import accuracy_score, confusion_matrix, classification_report, mean_squared_error, mean_absolute_error\n",
    "import gc"
   ]
  },
  {
   "cell_type": "markdown",
   "metadata": {},
   "source": [
    "# Random Forest"
   ]
  },
  {
   "cell_type": "code",
   "execution_count": null,
   "metadata": {
    "execution": {
     "iopub.execute_input": "2023-01-31T15:32:36.684299Z",
     "iopub.status.busy": "2023-01-31T15:32:36.683882Z",
     "iopub.status.idle": "2023-01-31T15:32:42.486027Z",
     "shell.execute_reply": "2023-01-31T15:32:42.484383Z",
     "shell.execute_reply.started": "2023-01-31T15:32:36.684225Z"
    }
   },
   "outputs": [],
   "source": [
    "rf = RandomForestClassifier()\n",
    "rf_param_grid = {'n_estimators': [100], 'criterion': ['entropy'], 'max_depth': [5]}\n",
    "\n",
    "rf_cv= GridSearchCV(rf,rf_param_grid,cv=7,n_jobs=-1)\n",
    "\n",
    "rf_cv.fit(X_train,y_train)\n",
    "\n",
    "print(\"Best Score:\" + str(rf_cv.best_score_))\n",
    "print(\"Best Parameters: \" + str(rf_cv.best_params_))\n",
    "gc.collect();"
   ]
  },
  {
   "cell_type": "code",
   "execution_count": null,
   "metadata": {
    "execution": {
     "iopub.execute_input": "2023-01-31T15:32:42.488777Z",
     "iopub.status.busy": "2023-01-31T15:32:42.488226Z",
     "iopub.status.idle": "2023-01-31T15:32:42.551405Z",
     "shell.execute_reply": "2023-01-31T15:32:42.550423Z",
     "shell.execute_reply.started": "2023-01-31T15:32:42.488653Z"
    }
   },
   "outputs": [],
   "source": [
    "y_train_pred = rf_cv.predict(X_train)\n",
    "print(classification_report(y_train, y_train_pred))"
   ]
  },
  {
   "cell_type": "markdown",
   "metadata": {},
   "source": [
    "# K Neighbors"
   ]
  },
  {
   "cell_type": "code",
   "execution_count": null,
   "metadata": {
    "execution": {
     "iopub.execute_input": "2023-01-31T15:32:42.553514Z",
     "iopub.status.busy": "2023-01-31T15:32:42.552977Z",
     "iopub.status.idle": "2023-01-31T15:32:42.957919Z",
     "shell.execute_reply": "2023-01-31T15:32:42.956804Z",
     "shell.execute_reply.started": "2023-01-31T15:32:42.55345Z"
    }
   },
   "outputs": [],
   "source": [
    "clfl2 = KNeighborsClassifier()\n",
    "parameters = {'n_neighbors': [150], 'weights': ['distance'], 'metric': ['euclidean']} #0.4889326226595599\n",
    "\n",
    "fitmodel = GridSearchCV(clfl2, param_grid=parameters, cv=5, refit=True, scoring=\"accuracy\", n_jobs=-1, verbose=3)\n",
    "fitmodel.fit(X_train, y_train)\n",
    "print(fitmodel.best_estimator_, fitmodel.best_params_, fitmodel.best_score_)"
   ]
  },
  {
   "cell_type": "code",
   "execution_count": null,
   "metadata": {
    "execution": {
     "iopub.execute_input": "2023-01-31T15:32:42.960545Z",
     "iopub.status.busy": "2023-01-31T15:32:42.959833Z",
     "iopub.status.idle": "2023-01-31T15:32:43.647686Z",
     "shell.execute_reply": "2023-01-31T15:32:43.646671Z",
     "shell.execute_reply.started": "2023-01-31T15:32:42.960475Z"
    }
   },
   "outputs": [],
   "source": [
    "y_pred = fitmodel.predict(X_test)\n",
    "print(classification_report(y_test, y_pred))"
   ]
  },
  {
   "cell_type": "code",
   "execution_count": null,
   "metadata": {
    "execution": {
     "iopub.execute_input": "2023-01-31T15:32:43.650868Z",
     "iopub.status.busy": "2023-01-31T15:32:43.650359Z",
     "iopub.status.idle": "2023-01-31T15:32:43.656719Z",
     "shell.execute_reply": "2023-01-31T15:32:43.655419Z",
     "shell.execute_reply.started": "2023-01-31T15:32:43.650797Z"
    }
   },
   "outputs": [],
   "source": [
    "from tensorflow.keras.layers import Flatten, Dense, Conv1D, MaxPool1D, Dropout,MaxPooling1D,LSTM\n",
    "from tensorflow.keras.models import Sequential\n",
    "from keras.utils import to_categorical"
   ]
  },
  {
   "cell_type": "markdown",
   "metadata": {},
   "source": [
    "# 1 D Conv"
   ]
  },
  {
   "cell_type": "code",
   "execution_count": null,
   "metadata": {
    "execution": {
     "iopub.execute_input": "2023-01-31T15:32:43.659219Z",
     "iopub.status.busy": "2023-01-31T15:32:43.65884Z",
     "iopub.status.idle": "2023-01-31T15:32:43.674382Z",
     "shell.execute_reply": "2023-01-31T15:32:43.673268Z",
     "shell.execute_reply.started": "2023-01-31T15:32:43.659153Z"
    }
   },
   "outputs": [],
   "source": [
    "#Reshape train and test data to (n_samples, 187, 1), where each sample is of size (187, 1)\n",
    "X_train = np.array(X_train).reshape(X_train.shape[0], X_train.shape[1], 1)\n",
    "X_test = np.array(X_test).reshape(X_test.shape[0], X_test.shape[1], 1)"
   ]
  },
  {
   "cell_type": "code",
   "execution_count": null,
   "metadata": {
    "execution": {
     "iopub.execute_input": "2023-01-31T15:32:43.676344Z",
     "iopub.status.busy": "2023-01-31T15:32:43.675985Z",
     "iopub.status.idle": "2023-01-31T15:32:43.687373Z",
     "shell.execute_reply": "2023-01-31T15:32:43.686148Z",
     "shell.execute_reply.started": "2023-01-31T15:32:43.676281Z"
    }
   },
   "outputs": [],
   "source": [
    "y_test_old = y_test.copy()"
   ]
  },
  {
   "cell_type": "code",
   "execution_count": null,
   "metadata": {
    "execution": {
     "iopub.execute_input": "2023-01-31T15:32:43.689505Z",
     "iopub.status.busy": "2023-01-31T15:32:43.689128Z",
     "iopub.status.idle": "2023-01-31T15:32:43.701251Z",
     "shell.execute_reply": "2023-01-31T15:32:43.699668Z",
     "shell.execute_reply.started": "2023-01-31T15:32:43.689439Z"
    }
   },
   "outputs": [],
   "source": [
    "y_train = to_categorical(y_train)\n",
    "y_test = to_categorical(y_test)"
   ]
  },
  {
   "cell_type": "code",
   "execution_count": null,
   "metadata": {
    "execution": {
     "iopub.execute_input": "2023-01-31T15:32:43.703581Z",
     "iopub.status.busy": "2023-01-31T15:32:43.703014Z",
     "iopub.status.idle": "2023-01-31T15:32:43.716148Z",
     "shell.execute_reply": "2023-01-31T15:32:43.71467Z",
     "shell.execute_reply.started": "2023-01-31T15:32:43.703298Z"
    }
   },
   "outputs": [],
   "source": [
    "y_train.shape[1]"
   ]
  },
  {
   "cell_type": "markdown",
   "metadata": {},
   "source": [
    "# 1 D Conv"
   ]
  },
  {
   "cell_type": "code",
   "execution_count": null,
   "metadata": {
    "execution": {
     "iopub.execute_input": "2023-01-31T15:32:43.718378Z",
     "iopub.status.busy": "2023-01-31T15:32:43.717995Z",
     "iopub.status.idle": "2023-01-31T15:32:43.881311Z",
     "shell.execute_reply": "2023-01-31T15:32:43.880234Z",
     "shell.execute_reply.started": "2023-01-31T15:32:43.718315Z"
    }
   },
   "outputs": [],
   "source": [
    "model = Sequential()\n",
    "model.add(Conv1D(filters=64, kernel_size=3, activation='relu', input_shape=(X_train.shape[1],1)))\n",
    "model.add(Dropout(0.5))\n",
    "model.add(MaxPooling1D(pool_size=2))\n",
    "model.add(Flatten())\n",
    "model.add(Dense(100, activation='relu'))\n",
    "model.add(Dense(y_train.shape[1], activation='softmax'))\n",
    "model.compile(loss='categorical_crossentropy', optimizer='adam', metrics=['accuracy'])"
   ]
  },
  {
   "cell_type": "code",
   "execution_count": null,
   "metadata": {
    "execution": {
     "iopub.execute_input": "2023-01-31T15:32:43.883697Z",
     "iopub.status.busy": "2023-01-31T15:32:43.88329Z",
     "iopub.status.idle": "2023-01-31T15:32:46.24012Z",
     "shell.execute_reply": "2023-01-31T15:32:46.23881Z",
     "shell.execute_reply.started": "2023-01-31T15:32:43.883622Z"
    }
   },
   "outputs": [],
   "source": [
    "# fit network\n",
    "history_1d = model.fit(X_train, y_train, epochs=2)\n",
    "# evaluate model"
   ]
  },
  {
   "cell_type": "code",
   "execution_count": null,
   "metadata": {
    "execution": {
     "iopub.execute_input": "2023-01-31T15:32:46.242053Z",
     "iopub.status.busy": "2023-01-31T15:32:46.241548Z",
     "iopub.status.idle": "2023-01-31T15:32:46.799165Z",
     "shell.execute_reply": "2023-01-31T15:32:46.798172Z",
     "shell.execute_reply.started": "2023-01-31T15:32:46.242Z"
    }
   },
   "outputs": [],
   "source": [
    "_, accuracy = model.evaluate(X_test, y_test)"
   ]
  },
  {
   "cell_type": "code",
   "execution_count": null,
   "metadata": {
    "execution": {
     "iopub.execute_input": "2023-01-31T15:32:46.801221Z",
     "iopub.status.busy": "2023-01-31T15:32:46.800837Z",
     "iopub.status.idle": "2023-01-31T15:32:47.23601Z",
     "shell.execute_reply": "2023-01-31T15:32:47.234506Z",
     "shell.execute_reply.started": "2023-01-31T15:32:46.801165Z"
    }
   },
   "outputs": [],
   "source": [
    "pred_result = model.predict(X_test)\n",
    "final_pred = [np.argmax(i) for i in pred_result]\n",
    "print(classification_report(y_test_old,final_pred))"
   ]
  },
  {
   "cell_type": "markdown",
   "metadata": {},
   "source": [
    "# LSTM"
   ]
  },
  {
   "cell_type": "code",
   "execution_count": null,
   "metadata": {
    "execution": {
     "iopub.execute_input": "2023-01-31T15:32:47.238361Z",
     "iopub.status.busy": "2023-01-31T15:32:47.237936Z",
     "iopub.status.idle": "2023-01-31T15:32:47.766758Z",
     "shell.execute_reply": "2023-01-31T15:32:47.765072Z",
     "shell.execute_reply.started": "2023-01-31T15:32:47.238289Z"
    }
   },
   "outputs": [],
   "source": [
    "lstm_model = Sequential()\n",
    "lstm_model.add(LSTM(100, input_shape=(X_train.shape[1],1)))\n",
    "lstm_model.add(Dropout(0.5))\n",
    "lstm_model.add(Dense(100, activation=\"relu\"))\n",
    "lstm_model.add(Dense(y_train.shape[1], activation=\"softmax\"))\n",
    "lstm_model.compile(loss=\"categorical_crossentropy\", optimizer=\"adam\", metrics=[\"accuracy\"])\n",
    "lstm_model.summary()"
   ]
  },
  {
   "cell_type": "code",
   "execution_count": null,
   "metadata": {
    "execution": {
     "iopub.execute_input": "2023-01-31T15:32:47.769658Z",
     "iopub.status.busy": "2023-01-31T15:32:47.769022Z",
     "iopub.status.idle": "2023-01-31T15:32:56.437972Z",
     "shell.execute_reply": "2023-01-31T15:32:56.436311Z",
     "shell.execute_reply.started": "2023-01-31T15:32:47.769564Z"
    }
   },
   "outputs": [],
   "source": [
    "# fit network\n",
    "history_lstm = lstm_model.fit(X_train, y_train, epochs=1)\n",
    "# evaluate model"
   ]
  },
  {
   "cell_type": "code",
   "execution_count": null,
   "metadata": {
    "execution": {
     "iopub.execute_input": "2023-01-31T15:32:56.441573Z",
     "iopub.status.busy": "2023-01-31T15:32:56.440534Z",
     "iopub.status.idle": "2023-01-31T15:32:59.131097Z",
     "shell.execute_reply": "2023-01-31T15:32:59.129882Z",
     "shell.execute_reply.started": "2023-01-31T15:32:56.441448Z"
    }
   },
   "outputs": [],
   "source": [
    "_, accuracy = lstm_model.evaluate(X_test, y_test)"
   ]
  },
  {
   "cell_type": "code",
   "execution_count": null,
   "metadata": {
    "execution": {
     "iopub.execute_input": "2023-01-31T15:32:59.135316Z",
     "iopub.status.busy": "2023-01-31T15:32:59.133762Z",
     "iopub.status.idle": "2023-01-31T15:33:02.610745Z",
     "shell.execute_reply": "2023-01-31T15:33:02.609673Z",
     "shell.execute_reply.started": "2023-01-31T15:32:59.135245Z"
    }
   },
   "outputs": [],
   "source": [
    "lstm_pred_result = lstm_model.predict(X_test)"
   ]
  },
  {
   "cell_type": "code",
   "execution_count": null,
   "metadata": {
    "execution": {
     "iopub.execute_input": "2023-01-31T15:33:02.612426Z",
     "iopub.status.busy": "2023-01-31T15:33:02.612139Z",
     "iopub.status.idle": "2023-01-31T15:33:02.625164Z",
     "shell.execute_reply": "2023-01-31T15:33:02.623423Z",
     "shell.execute_reply.started": "2023-01-31T15:33:02.612385Z"
    }
   },
   "outputs": [],
   "source": [
    "final_pred_lstm = [np.argmax(i) for i in lstm_pred_result]"
   ]
  },
  {
   "cell_type": "code",
   "execution_count": null,
   "metadata": {
    "execution": {
     "iopub.execute_input": "2023-01-31T15:33:02.628307Z",
     "iopub.status.busy": "2023-01-31T15:33:02.627394Z",
     "iopub.status.idle": "2023-01-31T15:33:02.649804Z",
     "shell.execute_reply": "2023-01-31T15:33:02.648541Z",
     "shell.execute_reply.started": "2023-01-31T15:33:02.628228Z"
    }
   },
   "outputs": [],
   "source": [
    "print(classification_report(y_test_old,final_pred_lstm))"
   ]
  }
 ],
 "metadata": {
  "kernelspec": {
   "display_name": "Python 3 (ipykernel)",
   "language": "python",
   "name": "python3"
  },
  "language_info": {
   "codemirror_mode": {
    "name": "ipython",
    "version": 3
   },
   "file_extension": ".py",
   "mimetype": "text/x-python",
   "name": "python",
   "nbconvert_exporter": "python",
   "pygments_lexer": "ipython3",
   "version": "3.9.13"
  }
 },
 "nbformat": 4,
 "nbformat_minor": 4
}
